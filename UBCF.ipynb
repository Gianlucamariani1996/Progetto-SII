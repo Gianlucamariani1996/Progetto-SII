{
 "cells": [
  {
   "cell_type": "markdown",
   "metadata": {},
   "source": [
    "# Descrizione notebook\n",
    "In questo notebook si fa utilizzo dello User-Based Collaborative Filtering per raccomandare una barzelletta ad un utente."
   ]
  },
  {
   "cell_type": "code",
   "execution_count": 1,
   "metadata": {},
   "outputs": [],
   "source": [
    "# import delle librerie necessarie\n",
    "import numpy as np\n",
    "import pandas as pd\n",
    "import math"
   ]
  },
  {
   "cell_type": "code",
   "execution_count": 2,
   "metadata": {},
   "outputs": [],
   "source": [
    "# lettura dei rating normalizzati dal relativo CSV\n",
    "normalized_ratings_df = pd.read_csv('./data/normalized_ratings.csv')\n",
    "\n",
    "# lettura dei rating non normalizzati dal relativo CSV (serve solo per calcolare la predizione, nella\n",
    "# quale serve calcolare il rating medio dell'utente)\n",
    "# non c'è bisogno di levare i 99, tanto questo df serve solo per calcolare il rating medio dell'utente target\n",
    "# e si droppano le barzellette che non ha votato\n",
    "ratings_df = pd.read_csv('./data/jester_jokes_ratings.csv')"
   ]
  },
  {
   "cell_type": "markdown",
   "metadata": {},
   "source": [
    "# Similarità tra utenti: Coefficiente di Pearson"
   ]
  },
  {
   "cell_type": "code",
   "execution_count": 3,
   "metadata": {},
   "outputs": [],
   "source": [
    "# funzione per trovare la similarità tra due utenti: Coefficiente di Pearson\n",
    "def weight_factor(x, y): \n",
    "    t1, t2, t3 = 0, 0, 0 \n",
    "    for i, j in zip(x, y):\n",
    "        if not(math.isnan(i)) and not(math.isnan(j)):\n",
    "            t1+=i*j # numeratore\n",
    "            t2+=i*i # denominatore_1\n",
    "            t3+=j*j # denominatore_2\n",
    "    return t1 / (np.sqrt(t2) * np.sqrt(t3))"
   ]
  },
  {
   "cell_type": "markdown",
   "metadata": {},
   "source": [
    "# Predizione\n",
    "Assegnazione degli score per le barzellette non ancora valutate dall'utente target."
   ]
  },
  {
   "cell_type": "code",
   "execution_count": 4,
   "metadata": {},
   "outputs": [],
   "source": [
    "def score_user_item(item_id, neighbours_df, neighbour_user_similarity, active_user_mean_rating):\n",
    "    item_rating = neighbours_df[item_id]\n",
    "    t1, t2 = 0, 0\n",
    "    for similarity, norm_rating in zip(neighbour_user_similarity, item_rating):\n",
    "        t1+= norm_rating * similarity # numeratore\n",
    "        t2+= similarity # denominatore\n",
    "    score = active_user_mean_rating + t1 / t2\n",
    "    return score"
   ]
  },
  {
   "cell_type": "markdown",
   "metadata": {},
   "source": [
    "# Raccomandazione"
   ]
  },
  {
   "cell_type": "code",
   "execution_count": 5,
   "metadata": {},
   "outputs": [],
   "source": [
    "def recommendation_1(active_user_id, normalized_ratings_df, ratings_df):\n",
    "    # si prende la riga relativa all'id dell'utente\n",
    "    active_user = normalized_ratings_df[normalized_ratings_df['user_id'] == active_user_id]\n",
    "    # della riga si considerano solo i rating espressi dall'utente\n",
    "    active_user_rating = active_user.iloc[:, 2:]\n",
    "    # si droppa altrimenti con lui uscirebbe similarità massima (= 1)\n",
    "    normalized_ratings_df = normalized_ratings_df.drop(normalized_ratings_df[normalized_ratings_df['user_id'] == active_user_id].index)\n",
    "    # vengono messi i rating dell'utente target in una lista,\n",
    "    # ravel() esempio: [[1,2],[3,4]] = [1,2,3,4]\n",
    "    active_user_rating_list = active_user_rating.values.ravel()\n",
    "    # si calcola la similarità tra l'utente target e tutti gli altri utenti\n",
    "    similarity = []\n",
    "    for i in range(normalized_ratings_df.shape[0]):\n",
    "          similarity.append([normalized_ratings_df.iloc[i, 0], weight_factor(active_user_rating_list, normalized_ratings_df.iloc[i, 2:])])\n",
    "    # si crea un dataframe\n",
    "    similarity = pd.DataFrame(similarity, columns = ['user_id', 'similarity'])\n",
    "    # si buttano i vicini che sono troppo poco simili\n",
    "    # similarity = similarity[similarity['similarity'] > 0.1]\n",
    "    # si prendono le barzellette raccomandabili all'utente\n",
    "    recommendation_columns = []\n",
    "    for column in active_user_rating.columns:\n",
    "        if math.isnan(active_user_rating[column].values[0]):\n",
    "            recommendation_columns.append(column)\n",
    "    # si calcola la media delle valutazioni dello user target in modo \n",
    "    # da avere una predizione più precisa (formula vista nel corso)\n",
    "    active_user_raw_ratings = ratings_df[ratings_df['user_id'] == active_user_id].iloc[:, 2:]\n",
    "    active_user_mean_rating = np.mean(active_user_raw_ratings.drop(recommendation_columns, axis = 1).values)\n",
    "    # si prendono i rating dei neighbor dell'utente target\n",
    "    neighbours_df = normalized_ratings_df[normalized_ratings_df['user_id'].isin(similarity[\"user_id\"])]\n",
    "    # si selezionano solo le barzellette che si volgiono raccomandare all'utente (quelle che non ha valutato)\n",
    "    neighbours_df = neighbours_df[['user_id'] + recommendation_columns]\n",
    "    # raccomandazione della barzelletta con la predizione più alta\n",
    "    top_score = -np.inf\n",
    "    joke_to_suggest = ''\n",
    "    final = []\n",
    "    # per ogni barzellette che si potrebbe raccomandare si calcola lo score\n",
    "    for column in recommendation_columns:\n",
    "        # si devono prendere i 30 vicini più simili che hanno valutato la barzelletta che si vuole raccomandare\n",
    "        app = neighbours_df[neighbours_df[column].notna()][[\"user_id\", column]]\n",
    "        # si fa un join con la matrice di similarità sulla base dello user_id\n",
    "        app = pd.merge(app, similarity, on = \"user_id\")\n",
    "        # si ordina in ordine decrescente per la similarità e si prendono i primi 30 elementi\n",
    "        app = app.sort_values(by=['similarity'], ascending=False).head(30)\n",
    "        # si predice la valutazione dell'utente in base ai suoi vicini\n",
    "        score = score_user_item(column, app, app[\"similarity\"], active_user_mean_rating)\n",
    "        print(\"per la barzelletta \" + str(column) + \" si è predetto un punteggio di: \" + str(score))\n",
    "        if score > top_score:\n",
    "            top_score = score\n",
    "            joke_to_suggest = column\n",
    "        app_2 = {}\n",
    "        app_2[\"user_id\"] = active_user_id\n",
    "        app_2[column] = score\n",
    "        final.append(app_2)\n",
    "    print('\\nil valore più alto predetto è ' + str(top_score) + ' su 10')\n",
    "    print('quindi la barzelletta da raccomandare per la quale si è predetto quel punteggio è: ', joke_to_suggest) \n",
    "    return final"
   ]
  },
  {
   "cell_type": "code",
   "execution_count": 6,
   "metadata": {},
   "outputs": [
    {
     "name": "stdout",
     "output_type": "stream",
     "text": [
      "per la barzelletta joke_1 si è predetto un punteggio di: 4.946422247845393\n",
      "per la barzelletta joke_2 si è predetto un punteggio di: 4.231802699247759\n",
      "per la barzelletta joke_3 si è predetto un punteggio di: 4.6167440703613325\n",
      "per la barzelletta joke_4 si è predetto un punteggio di: 4.711268629409112\n",
      "per la barzelletta joke_9 si è predetto un punteggio di: 4.057639500844513\n",
      "per la barzelletta joke_23 si è predetto un punteggio di: 5.0954744109093095\n",
      "per la barzelletta joke_24 si è predetto un punteggio di: 2.858749823294116\n",
      "per la barzelletta joke_33 si è predetto un punteggio di: 4.766254653547798\n",
      "per la barzelletta joke_37 si è predetto un punteggio di: 4.618399335229611\n",
      "per la barzelletta joke_43 si è predetto un punteggio di: 3.9585039203072085\n",
      "per la barzelletta joke_47 si è predetto un punteggio di: 6.6123087727683805\n",
      "per la barzelletta joke_55 si è predetto un punteggio di: 5.25092530575441\n",
      "per la barzelletta joke_57 si è predetto un punteggio di: 1.564840717900211\n",
      "per la barzelletta joke_58 si è predetto un punteggio di: 0.08426996774378281\n",
      "per la barzelletta joke_60 si è predetto un punteggio di: 2.3602276388425345\n",
      "per la barzelletta joke_64 si è predetto un punteggio di: 4.170134824607456\n",
      "per la barzelletta joke_67 si è predetto un punteggio di: 4.75233318890423\n",
      "per la barzelletta joke_71 si è predetto un punteggio di: 1.3164611344901287\n",
      "per la barzelletta joke_72 si è predetto un punteggio di: 5.401471921650529\n",
      "per la barzelletta joke_73 si è predetto un punteggio di: 5.586445365352631\n",
      "per la barzelletta joke_74 si è predetto un punteggio di: 2.111035685226213\n",
      "per la barzelletta joke_75 si è predetto un punteggio di: 3.562392284835195\n",
      "per la barzelletta joke_76 si è predetto un punteggio di: 5.57964683039558\n",
      "per la barzelletta joke_77 si è predetto un punteggio di: 4.863376633978132\n",
      "per la barzelletta joke_78 si è predetto un punteggio di: 5.208697987415961\n",
      "per la barzelletta joke_79 si è predetto un punteggio di: 5.0077622268931234\n",
      "per la barzelletta joke_80 si è predetto un punteggio di: 5.210975895763172\n",
      "per la barzelletta joke_81 si è predetto un punteggio di: 5.570218033685935\n",
      "per la barzelletta joke_82 si è predetto un punteggio di: 3.9326478269480134\n",
      "per la barzelletta joke_83 si è predetto un punteggio di: 6.2295012961677045\n",
      "per la barzelletta joke_84 si è predetto un punteggio di: 5.032804066178581\n",
      "per la barzelletta joke_85 si è predetto un punteggio di: 5.273892861059475\n",
      "per la barzelletta joke_86 si è predetto un punteggio di: 3.217691868765147\n",
      "per la barzelletta joke_87 si è predetto un punteggio di: 5.781991696040805\n",
      "per la barzelletta joke_88 si è predetto un punteggio di: 5.547944779190222\n",
      "per la barzelletta joke_89 si è predetto un punteggio di: 7.012182800471108\n",
      "per la barzelletta joke_90 si è predetto un punteggio di: 3.366211292313028\n",
      "per la barzelletta joke_91 si è predetto un punteggio di: 5.590525020235099\n",
      "per la barzelletta joke_92 si è predetto un punteggio di: 4.545958521561223\n",
      "per la barzelletta joke_93 si è predetto un punteggio di: 5.67803142917746\n",
      "per la barzelletta joke_94 si è predetto un punteggio di: 4.308065694683206\n",
      "per la barzelletta joke_95 si è predetto un punteggio di: 4.74974673054873\n",
      "per la barzelletta joke_96 si è predetto un punteggio di: 4.194668034125471\n",
      "per la barzelletta joke_97 si è predetto un punteggio di: 3.6894749196633594\n",
      "per la barzelletta joke_98 si è predetto un punteggio di: 4.722993916962082\n",
      "per la barzelletta joke_99 si è predetto un punteggio di: 3.234004864513638\n",
      "per la barzelletta joke_100 si è predetto un punteggio di: 5.533742636502604\n",
      "\n",
      "il valore più alto predetto è 7.012182800471108 su 10\n",
      "quindi la barzelletta da raccomandare per la quale si è predetto quel punteggio è:  joke_89\n"
     ]
    },
    {
     "data": {
      "text/plain": [
       "[{'user_id': 1001, 'joke_1': 4.946422247845393},\n",
       " {'user_id': 1001, 'joke_2': 4.231802699247759},\n",
       " {'user_id': 1001, 'joke_3': 4.6167440703613325},\n",
       " {'user_id': 1001, 'joke_4': 4.711268629409112},\n",
       " {'user_id': 1001, 'joke_9': 4.057639500844513},\n",
       " {'user_id': 1001, 'joke_23': 5.0954744109093095},\n",
       " {'user_id': 1001, 'joke_24': 2.858749823294116},\n",
       " {'user_id': 1001, 'joke_33': 4.766254653547798},\n",
       " {'user_id': 1001, 'joke_37': 4.618399335229611},\n",
       " {'user_id': 1001, 'joke_43': 3.9585039203072085},\n",
       " {'user_id': 1001, 'joke_47': 6.6123087727683805},\n",
       " {'user_id': 1001, 'joke_55': 5.25092530575441},\n",
       " {'user_id': 1001, 'joke_57': 1.564840717900211},\n",
       " {'user_id': 1001, 'joke_58': 0.08426996774378281},\n",
       " {'user_id': 1001, 'joke_60': 2.3602276388425345},\n",
       " {'user_id': 1001, 'joke_64': 4.170134824607456},\n",
       " {'user_id': 1001, 'joke_67': 4.75233318890423},\n",
       " {'user_id': 1001, 'joke_71': 1.3164611344901287},\n",
       " {'user_id': 1001, 'joke_72': 5.401471921650529},\n",
       " {'user_id': 1001, 'joke_73': 5.586445365352631},\n",
       " {'user_id': 1001, 'joke_74': 2.111035685226213},\n",
       " {'user_id': 1001, 'joke_75': 3.562392284835195},\n",
       " {'user_id': 1001, 'joke_76': 5.57964683039558},\n",
       " {'user_id': 1001, 'joke_77': 4.863376633978132},\n",
       " {'user_id': 1001, 'joke_78': 5.208697987415961},\n",
       " {'user_id': 1001, 'joke_79': 5.0077622268931234},\n",
       " {'user_id': 1001, 'joke_80': 5.210975895763172},\n",
       " {'user_id': 1001, 'joke_81': 5.570218033685935},\n",
       " {'user_id': 1001, 'joke_82': 3.9326478269480134},\n",
       " {'user_id': 1001, 'joke_83': 6.2295012961677045},\n",
       " {'user_id': 1001, 'joke_84': 5.032804066178581},\n",
       " {'user_id': 1001, 'joke_85': 5.273892861059475},\n",
       " {'user_id': 1001, 'joke_86': 3.217691868765147},\n",
       " {'user_id': 1001, 'joke_87': 5.781991696040805},\n",
       " {'user_id': 1001, 'joke_88': 5.547944779190222},\n",
       " {'user_id': 1001, 'joke_89': 7.012182800471108},\n",
       " {'user_id': 1001, 'joke_90': 3.366211292313028},\n",
       " {'user_id': 1001, 'joke_91': 5.590525020235099},\n",
       " {'user_id': 1001, 'joke_92': 4.545958521561223},\n",
       " {'user_id': 1001, 'joke_93': 5.67803142917746},\n",
       " {'user_id': 1001, 'joke_94': 4.308065694683206},\n",
       " {'user_id': 1001, 'joke_95': 4.74974673054873},\n",
       " {'user_id': 1001, 'joke_96': 4.194668034125471},\n",
       " {'user_id': 1001, 'joke_97': 3.6894749196633594},\n",
       " {'user_id': 1001, 'joke_98': 4.722993916962082},\n",
       " {'user_id': 1001, 'joke_99': 3.234004864513638},\n",
       " {'user_id': 1001, 'joke_100': 5.533742636502604}]"
      ]
     },
     "execution_count": 6,
     "metadata": {},
     "output_type": "execute_result"
    }
   ],
   "source": [
    "recommendation_1(1001, normalized_ratings_df, ratings_df)"
   ]
  }
 ],
 "metadata": {
  "kernelspec": {
   "display_name": "Python 3",
   "language": "python",
   "name": "python3"
  },
  "language_info": {
   "codemirror_mode": {
    "name": "ipython",
    "version": 3
   },
   "file_extension": ".py",
   "mimetype": "text/x-python",
   "name": "python",
   "nbconvert_exporter": "python",
   "pygments_lexer": "ipython3",
   "version": "3.8.5"
  }
 },
 "nbformat": 4,
 "nbformat_minor": 4
}
