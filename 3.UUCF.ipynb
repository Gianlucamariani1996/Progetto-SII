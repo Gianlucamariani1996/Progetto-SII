{
 "cells": [
  {
   "cell_type": "markdown",
   "metadata": {},
   "source": [
    "### Collaborative Filtering\n",
    "-----------------------------------------------------------------------\n",
    "----------------------------------------------------------------------\n",
    "\n",
    "    Collaborative Filtering techniques make recommendations for a user based on ratings and preferences data of many users. The main underlying idea is that if two users have both rated 2 items similarly, then the items that one user has liked that the other user has not yet \n",
    "\n",
    "##### In this notebook we will apply user user collaborative filtering technique!\n",
    "\n",
    "#### User User collaborative filtering !!\n",
    "------------------------------------------\n",
    "\n",
    "    This approach relies on the idea that users who have similar rating behaviours so far, share the same tastes and will likely exhibit similar rating behaviours going forward. The algorithm first computes the similarity between users by considering ratings both users have in common"
   ]
  },
  {
   "cell_type": "markdown",
   "metadata": {},
   "source": [
    "From notebook 2, we are taking similarity funcition. We will use this function to find similarity between active user  and other user using normalized data"
   ]
  },
  {
   "cell_type": "code",
   "execution_count": 1,
   "metadata": {},
   "outputs": [],
   "source": [
    "def weight_factor(x, y):\n",
    "    ''' \n",
    "    Weight factor implies relationship between user x and user y\n",
    "    Also know as similarity between user x and user y\n",
    "    We are using Pearson correlation coefficient here. \n",
    "    '''    \n",
    "    t1, t2, t3 = 0, 0, 0 \n",
    "    for i, j in zip(x, y):\n",
    "        t1+=i*j\n",
    "        t2+=i*i\n",
    "        t3+=j*j\n",
    "    return t1/(np.sqrt(t2) * np.sqrt(t3))"
   ]
  },
  {
   "cell_type": "markdown",
   "metadata": {},
   "source": [
    "#### Selecting normalized data from database!"
   ]
  },
  {
   "cell_type": "code",
   "execution_count": 2,
   "metadata": {},
   "outputs": [],
   "source": [
    "import numpy as np\n",
    "import pandas as pd\n",
    "\n",
    "normalized_ratings_df = pd.read_csv('./data/normalized_ratings.csv')\n",
    "\n",
    "ratings_df = pd.read_csv('./data/jester_jokes_rating.csv')"
   ]
  },
  {
   "cell_type": "code",
   "execution_count": 3,
   "metadata": {},
   "outputs": [
    {
     "data": {
      "text/html": [
       "<div>\n",
       "<style scoped>\n",
       "    .dataframe tbody tr th:only-of-type {\n",
       "        vertical-align: middle;\n",
       "    }\n",
       "\n",
       "    .dataframe tbody tr th {\n",
       "        vertical-align: top;\n",
       "    }\n",
       "\n",
       "    .dataframe thead th {\n",
       "        text-align: right;\n",
       "    }\n",
       "</style>\n",
       "<table border=\"1\" class=\"dataframe\">\n",
       "  <thead>\n",
       "    <tr style=\"text-align: right;\">\n",
       "      <th></th>\n",
       "      <th>user_id</th>\n",
       "      <th>number_of_jokes_rated</th>\n",
       "      <th>joke_1</th>\n",
       "      <th>joke_2</th>\n",
       "      <th>joke_3</th>\n",
       "      <th>joke_4</th>\n",
       "      <th>joke_5</th>\n",
       "      <th>joke_6</th>\n",
       "      <th>joke_7</th>\n",
       "      <th>joke_8</th>\n",
       "      <th>...</th>\n",
       "      <th>joke_91</th>\n",
       "      <th>joke_92</th>\n",
       "      <th>joke_93</th>\n",
       "      <th>joke_94</th>\n",
       "      <th>joke_95</th>\n",
       "      <th>joke_96</th>\n",
       "      <th>joke_97</th>\n",
       "      <th>joke_98</th>\n",
       "      <th>joke_99</th>\n",
       "      <th>100</th>\n",
       "    </tr>\n",
       "  </thead>\n",
       "  <tbody>\n",
       "    <tr>\n",
       "      <th>0</th>\n",
       "      <td>1</td>\n",
       "      <td>74</td>\n",
       "      <td>-4.388108</td>\n",
       "      <td>12.221892</td>\n",
       "      <td>-6.228108</td>\n",
       "      <td>-4.728108</td>\n",
       "      <td>-4.088108</td>\n",
       "      <td>-5.068108</td>\n",
       "      <td>-6.418108</td>\n",
       "      <td>7.601892</td>\n",
       "      <td>...</td>\n",
       "      <td>6.251892</td>\n",
       "      <td>0.0000</td>\n",
       "      <td>0.0000</td>\n",
       "      <td>0.0000</td>\n",
       "      <td>0.0000</td>\n",
       "      <td>0.0000</td>\n",
       "      <td>-2.198108</td>\n",
       "      <td>0.0000</td>\n",
       "      <td>0.0000</td>\n",
       "      <td>0.0000</td>\n",
       "    </tr>\n",
       "    <tr>\n",
       "      <th>1</th>\n",
       "      <td>2</td>\n",
       "      <td>100</td>\n",
       "      <td>1.333700</td>\n",
       "      <td>-3.036300</td>\n",
       "      <td>3.613700</td>\n",
       "      <td>1.623700</td>\n",
       "      <td>-5.126300</td>\n",
       "      <td>-12.406300</td>\n",
       "      <td>-3.476300</td>\n",
       "      <td>-8.086300</td>\n",
       "      <td>...</td>\n",
       "      <td>0.073700</td>\n",
       "      <td>-7.6963</td>\n",
       "      <td>-3.0363</td>\n",
       "      <td>5.1137</td>\n",
       "      <td>-2.9363</td>\n",
       "      <td>-4.8863</td>\n",
       "      <td>0.313700</td>\n",
       "      <td>-2.4063</td>\n",
       "      <td>-7.0663</td>\n",
       "      <td>-1.6763</td>\n",
       "    </tr>\n",
       "  </tbody>\n",
       "</table>\n",
       "<p>2 rows × 102 columns</p>\n",
       "</div>"
      ],
      "text/plain": [
       "   user_id  number_of_jokes_rated    joke_1     joke_2    joke_3    joke_4  \\\n",
       "0        1                     74 -4.388108  12.221892 -6.228108 -4.728108   \n",
       "1        2                    100  1.333700  -3.036300  3.613700  1.623700   \n",
       "\n",
       "     joke_5     joke_6    joke_7    joke_8  ...   joke_91  joke_92  joke_93  \\\n",
       "0 -4.088108  -5.068108 -6.418108  7.601892  ...  6.251892   0.0000   0.0000   \n",
       "1 -5.126300 -12.406300 -3.476300 -8.086300  ...  0.073700  -7.6963  -3.0363   \n",
       "\n",
       "   joke_94  joke_95  joke_96   joke_97  joke_98  joke_99     100  \n",
       "0   0.0000   0.0000   0.0000 -2.198108   0.0000   0.0000  0.0000  \n",
       "1   5.1137  -2.9363  -4.8863  0.313700  -2.4063  -7.0663 -1.6763  \n",
       "\n",
       "[2 rows x 102 columns]"
      ]
     },
     "execution_count": 3,
     "metadata": {},
     "output_type": "execute_result"
    }
   ],
   "source": [
    "normalized_ratings_df.head(2)"
   ]
  },
  {
   "cell_type": "markdown",
   "metadata": {},
   "source": [
    "#### Separating normalized ratings dataframe!\n",
    "\n",
    "We will be separating normalized ratings dataframe into 2 parts, \n",
    "\n",
    "    1> Complete ratings: Those users who have rated all 100 jokes\n",
    "    2> Sparse ratings: Those users who haven't rated all 100 jokes\n",
    "    \n",
    "For ease in computation, we will only select active user from sparse ratings, and other users from compete rating groups"
   ]
  },
  {
   "cell_type": "code",
   "execution_count": 4,
   "metadata": {},
   "outputs": [
    {
     "name": "stdout",
     "output_type": "stream",
     "text": [
      "total user count who have rated all the jokes:  7200\n",
      "total user count who have not rated all the jokes:  17783\n"
     ]
    }
   ],
   "source": [
    "# We will be using users who have rated all the 100 jokes as other users.\n",
    "complete_ratings = normalized_ratings_df[normalized_ratings_df['number_of_jokes_rated'] == 100]\n",
    "print('total user count who have rated all the jokes: ', len(complete_ratings))\n",
    "# We will be randomly using one out of these users as active user and use it to find \n",
    "# similarity with complete_ratings dataset. \n",
    "sparse_ratings = normalized_ratings_df[normalized_ratings_df['number_of_jokes_rated'] != 100]\n",
    "print('total user count who have not rated all the jokes: ', len(sparse_ratings))"
   ]
  },
  {
   "cell_type": "markdown",
   "metadata": {},
   "source": [
    "    Selecting one of the user from sparse_ratings matrix for whom the recommendation will be given. We will call him our active user and generate recommendation for him!"
   ]
  },
  {
   "cell_type": "code",
   "execution_count": 5,
   "metadata": {},
   "outputs": [
    {
     "name": "stdout",
     "output_type": "stream",
     "text": [
      "Let's selct a random user with user id 1352 as active user for which we will recommend the joke\n"
     ]
    }
   ],
   "source": [
    "# selecting a random user say 1000th user in sparse_ratings list\n",
    "n = 1000\n",
    "active_user_id = sparse_ratings.iloc[n, 0]\n",
    "print(\"Let's selct a random user with user id {} as active user for\\\n",
    " which we will recommend the joke\".format(str(active_user_id)))"
   ]
  },
  {
   "cell_type": "code",
   "execution_count": 6,
   "metadata": {},
   "outputs": [
    {
     "name": "stdout",
     "output_type": "stream",
     "text": [
      "ratings given by active user 1352 for 100 jokes\n"
     ]
    },
    {
     "data": {
      "text/html": [
       "<div>\n",
       "<style scoped>\n",
       "    .dataframe tbody tr th:only-of-type {\n",
       "        vertical-align: middle;\n",
       "    }\n",
       "\n",
       "    .dataframe tbody tr th {\n",
       "        vertical-align: top;\n",
       "    }\n",
       "\n",
       "    .dataframe thead th {\n",
       "        text-align: right;\n",
       "    }\n",
       "</style>\n",
       "<table border=\"1\" class=\"dataframe\">\n",
       "  <thead>\n",
       "    <tr style=\"text-align: right;\">\n",
       "      <th></th>\n",
       "      <th>joke_1</th>\n",
       "      <th>joke_2</th>\n",
       "      <th>joke_3</th>\n",
       "      <th>joke_4</th>\n",
       "      <th>joke_5</th>\n",
       "      <th>joke_6</th>\n",
       "      <th>joke_7</th>\n",
       "      <th>joke_8</th>\n",
       "      <th>joke_9</th>\n",
       "      <th>joke_10</th>\n",
       "      <th>...</th>\n",
       "      <th>joke_91</th>\n",
       "      <th>joke_92</th>\n",
       "      <th>joke_93</th>\n",
       "      <th>joke_94</th>\n",
       "      <th>joke_95</th>\n",
       "      <th>joke_96</th>\n",
       "      <th>joke_97</th>\n",
       "      <th>joke_98</th>\n",
       "      <th>joke_99</th>\n",
       "      <th>100</th>\n",
       "    </tr>\n",
       "  </thead>\n",
       "  <tbody>\n",
       "    <tr>\n",
       "      <th>1351</th>\n",
       "      <td>7.871096</td>\n",
       "      <td>-1.888904</td>\n",
       "      <td>-2.568904</td>\n",
       "      <td>-1.118904</td>\n",
       "      <td>2.821096</td>\n",
       "      <td>-4.078904</td>\n",
       "      <td>-0.188904</td>\n",
       "      <td>1.891096</td>\n",
       "      <td>-2.568904</td>\n",
       "      <td>3.931096</td>\n",
       "      <td>...</td>\n",
       "      <td>0.0</td>\n",
       "      <td>-3.448904</td>\n",
       "      <td>0.0</td>\n",
       "      <td>0.0</td>\n",
       "      <td>0.0</td>\n",
       "      <td>0.0</td>\n",
       "      <td>0.0</td>\n",
       "      <td>0.0</td>\n",
       "      <td>0.0</td>\n",
       "      <td>0.0</td>\n",
       "    </tr>\n",
       "  </tbody>\n",
       "</table>\n",
       "<p>1 rows × 100 columns</p>\n",
       "</div>"
      ],
      "text/plain": [
       "        joke_1    joke_2    joke_3    joke_4    joke_5    joke_6    joke_7  \\\n",
       "1351  7.871096 -1.888904 -2.568904 -1.118904  2.821096 -4.078904 -0.188904   \n",
       "\n",
       "        joke_8    joke_9   joke_10  ...  joke_91   joke_92  joke_93  joke_94  \\\n",
       "1351  1.891096 -2.568904  3.931096  ...      0.0 -3.448904      0.0      0.0   \n",
       "\n",
       "      joke_95  joke_96  joke_97  joke_98  joke_99  100  \n",
       "1351      0.0      0.0      0.0      0.0      0.0  0.0  \n",
       "\n",
       "[1 rows x 100 columns]"
      ]
     },
     "execution_count": 6,
     "metadata": {},
     "output_type": "execute_result"
    }
   ],
   "source": [
    "print('ratings given by active user {} for 100 jokes'.format(str(active_user_id)))\n",
    "active_user = sparse_ratings[sparse_ratings['user_id'] == active_user_id]\n",
    "active_user_rating = active_user.iloc[:, 2:]\n",
    "active_user_rating"
   ]
  },
  {
   "cell_type": "markdown",
   "metadata": {},
   "source": [
    "##### Finding similarity between active user and complete rated user!"
   ]
  },
  {
   "cell_type": "code",
   "execution_count": 7,
   "metadata": {},
   "outputs": [],
   "source": [
    "# saving active user ratings into 1 d list\n",
    "active_user_rating_list = active_user_rating.values.ravel()\n",
    "# finding similarity between active user and all its neighbours among complete rating users\n",
    "similarity = np.array([(complete_ratings.iloc[i, 0],\\\n",
    "             weight_factor(active_user_rating_list, complete_ratings.iloc[i, 2:]))\\\n",
    "             for i in range(complete_ratings.shape[0])])"
   ]
  },
  {
   "cell_type": "markdown",
   "metadata": {},
   "source": [
    "#### Sorting the neighbours using similarity "
   ]
  },
  {
   "cell_type": "code",
   "execution_count": 8,
   "metadata": {},
   "outputs": [
    {
     "data": {
      "text/plain": [
       "array([[ 7.33800000e+03, -2.87912874e-01],\n",
       "       [ 1.66100000e+03, -2.87005484e-01],\n",
       "       [ 1.41410000e+04, -2.70326403e-01],\n",
       "       ...,\n",
       "       [ 1.92170000e+04,  3.99469178e-01],\n",
       "       [ 1.06150000e+04,  4.06355890e-01],\n",
       "       [ 7.49200000e+03,  4.59458050e-01]])"
      ]
     },
     "execution_count": 8,
     "metadata": {},
     "output_type": "execute_result"
    }
   ],
   "source": [
    "ind = np.argsort( similarity[:,1] )\n",
    "similarity = similarity[ind]\n",
    "similarity"
   ]
  },
  {
   "cell_type": "markdown",
   "metadata": {},
   "source": [
    "### Now we have similarity matrix, our next task is to select neighbourhood. \n",
    "##### There are few methods to select neighbours:\n",
    "    1. Use all neighbours in samll dataset\n",
    "    2. Threshold similarity or distance:\n",
    "        eg. all users with similarity of 0.1 or above to user for whom we are generating the recommendations will be considered\n",
    "    3. Random neighbour:\n",
    "        Can be useful for very large dataset in conjucture with other technique. for eg. randomly select 10,000 neighbour and then threshold them or pick top n\n",
    "    4. Top n neighbour by similarity or distance\n",
    "        \n",
    "### How many neighbours?\n",
    "##### Between 25 to 100 is ofen used.\n",
    "        \n",
    "#### Our method !\n",
    "    We will be use threshold method followed by random n samples, (where n can be any random number between 25 - 100) but for simplicity we will take n as 30. \n",
    "    For threshold we will select other users with similarity > 0.1\n",
    "    "
   ]
  },
  {
   "cell_type": "code",
   "execution_count": 9,
   "metadata": {},
   "outputs": [
    {
     "name": "stdout",
     "output_type": "stream",
     "text": [
      "We have 2323 potential neighbours! Now we will be randomly selecting 30 samples out of them\n"
     ]
    }
   ],
   "source": [
    "neighbours = similarity[similarity[:,1] > 0.1]\n",
    "print('We have {} potential neighbours! Now we will be randomly selecting 30 samples out of them'.format(len(neighbours)))"
   ]
  },
  {
   "cell_type": "markdown",
   "metadata": {},
   "source": [
    "#### Randomly selecting 30 neighbours"
   ]
  },
  {
   "cell_type": "code",
   "execution_count": 10,
   "metadata": {
    "scrolled": true
   },
   "outputs": [
    {
     "data": {
      "text/plain": [
       "array([[5.03300000e+03, 1.38115736e-01],\n",
       "       [2.48600000e+04, 2.01804915e-01],\n",
       "       [8.79200000e+03, 1.64275692e-01],\n",
       "       [1.80550000e+04, 1.68331699e-01],\n",
       "       [2.42920000e+04, 2.97820661e-01],\n",
       "       [2.31690000e+04, 1.27519772e-01],\n",
       "       [9.91000000e+03, 1.73616580e-01],\n",
       "       [1.23230000e+04, 1.05936126e-01],\n",
       "       [1.43930000e+04, 1.49642903e-01],\n",
       "       [4.13600000e+03, 2.21970162e-01],\n",
       "       [7.75900000e+03, 1.67753275e-01],\n",
       "       [1.97550000e+04, 2.47730398e-01],\n",
       "       [1.46390000e+04, 1.40033820e-01],\n",
       "       [1.25640000e+04, 2.31544144e-01],\n",
       "       [4.40000000e+01, 1.18777559e-01],\n",
       "       [1.22200000e+04, 2.23824961e-01],\n",
       "       [1.66050000e+04, 2.14481874e-01],\n",
       "       [2.12570000e+04, 1.05734851e-01],\n",
       "       [6.95000000e+02, 1.19769265e-01],\n",
       "       [4.16500000e+03, 1.68320494e-01],\n",
       "       [1.67740000e+04, 1.33864630e-01],\n",
       "       [1.92090000e+04, 1.30506564e-01],\n",
       "       [6.99200000e+03, 1.23297121e-01],\n",
       "       [1.83380000e+04, 1.84401792e-01],\n",
       "       [4.93500000e+03, 1.57122553e-01],\n",
       "       [1.91560000e+04, 1.13026883e-01],\n",
       "       [2.37760000e+04, 1.05209141e-01],\n",
       "       [1.99200000e+03, 1.10786230e-01],\n",
       "       [2.05130000e+04, 1.10912009e-01],\n",
       "       [3.24200000e+03, 1.12564179e-01]])"
      ]
     },
     "execution_count": 10,
     "metadata": {},
     "output_type": "execute_result"
    }
   ],
   "source": [
    "# by replace = False, ensuring that no duplicate neighbour is selected !!\n",
    "index_30_neighbour = np.random.choice(range(len(neighbours)), 30, replace=False)\n",
    "selected_neighbours = neighbours[index_30_neighbour]\n",
    "selected_neighbours"
   ]
  },
  {
   "cell_type": "markdown",
   "metadata": {},
   "source": [
    "    Once we have selected 30 closest neighbours, our task is to create scoring for the jokes !! We will crate scoring for only those jokes which isn't rated yet by the active user yet. "
   ]
  },
  {
   "cell_type": "code",
   "execution_count": 11,
   "metadata": {},
   "outputs": [],
   "source": [
    "recommendation_columns = [column for column in active_user_rating.columns if active_user_rating[column].values[0] == 0]"
   ]
  },
  {
   "cell_type": "markdown",
   "metadata": {},
   "source": [
    "##### Mean value of ratings of active user!!\n",
    "\n",
    "    The mean value of rating is used to create so as to compensate for the offset created when data was normalized.\n",
    "    By adding mean value to the predicted score, it will give the probable score the user will give to a joke!"
   ]
  },
  {
   "cell_type": "code",
   "execution_count": 12,
   "metadata": {},
   "outputs": [
    {
     "data": {
      "text/plain": [
       "0.6289041095890411"
      ]
     },
     "execution_count": 12,
     "metadata": {},
     "output_type": "execute_result"
    }
   ],
   "source": [
    "active_user_raw_ratings = ratings_df[ratings_df['user_id'] == active_user_id].iloc[:, 2:]\n",
    "active_user_mean_rating = np.mean(active_user_raw_ratings.drop(recommendation_columns, axis = 1).values)\n",
    "active_user_mean_rating"
   ]
  },
  {
   "cell_type": "code",
   "execution_count": 13,
   "metadata": {},
   "outputs": [
    {
     "name": "stdout",
     "output_type": "stream",
     "text": [
      "neighbours user id:  [ 5033. 24860.  8792. 18055. 24292. 23169.  9910. 12323. 14393.  4136.\n",
      "  7759. 19755. 14639. 12564.    44. 12220. 16605. 21257.   695.  4165.\n",
      " 16774. 19209.  6992. 18338.  4935. 19156. 23776.  1992. 20513.  3242.] \n",
      "\n",
      "\n",
      "neighbours user similarity:  [0.13811574 0.20180492 0.16427569 0.1683317  0.29782066 0.12751977\n",
      " 0.17361658 0.10593613 0.1496429  0.22197016 0.16775327 0.2477304\n",
      " 0.14003382 0.23154414 0.11877756 0.22382496 0.21448187 0.10573485\n",
      " 0.11976927 0.16832049 0.13386463 0.13050656 0.12329712 0.18440179\n",
      " 0.15712255 0.11302688 0.10520914 0.11078623 0.11091201 0.11256418]\n"
     ]
    }
   ],
   "source": [
    "# Selecting neighbours user_id\n",
    "neighbour_user_id = selected_neighbours[:, 0]\n",
    "\n",
    "\n",
    "# selectig neighbour user similarity\n",
    "neighbour_user_similarity = selected_neighbours[:, 1]\n",
    "\n",
    "# viewing all neighbours user id and similarity\n",
    "print('neighbours user id: ', neighbour_user_id, '\\n\\n')\n",
    "print('neighbours user similarity: ', neighbour_user_similarity)"
   ]
  },
  {
   "cell_type": "markdown",
   "metadata": {},
   "source": [
    "#### Selecting all the data of neighbour!"
   ]
  },
  {
   "cell_type": "code",
   "execution_count": 14,
   "metadata": {},
   "outputs": [
    {
     "data": {
      "text/plain": [
       "30"
      ]
     },
     "execution_count": 14,
     "metadata": {},
     "output_type": "execute_result"
    }
   ],
   "source": [
    "neighbours_df = complete_ratings[complete_ratings['user_id'].isin(neighbour_user_id)]\n",
    "len(neighbours_df)"
   ]
  },
  {
   "cell_type": "code",
   "execution_count": 15,
   "metadata": {},
   "outputs": [
    {
     "name": "stdout",
     "output_type": "stream",
     "text": [
      "We will be suggesting one out of 27 jokes to the active user \n",
      "\n",
      "\n"
     ]
    },
    {
     "data": {
      "text/html": [
       "<div>\n",
       "<style scoped>\n",
       "    .dataframe tbody tr th:only-of-type {\n",
       "        vertical-align: middle;\n",
       "    }\n",
       "\n",
       "    .dataframe tbody tr th {\n",
       "        vertical-align: top;\n",
       "    }\n",
       "\n",
       "    .dataframe thead th {\n",
       "        text-align: right;\n",
       "    }\n",
       "</style>\n",
       "<table border=\"1\" class=\"dataframe\">\n",
       "  <thead>\n",
       "    <tr style=\"text-align: right;\">\n",
       "      <th></th>\n",
       "      <th>joke_71</th>\n",
       "      <th>joke_72</th>\n",
       "      <th>joke_73</th>\n",
       "      <th>joke_74</th>\n",
       "      <th>joke_75</th>\n",
       "      <th>joke_76</th>\n",
       "      <th>joke_77</th>\n",
       "      <th>joke_78</th>\n",
       "      <th>joke_80</th>\n",
       "      <th>joke_82</th>\n",
       "      <th>...</th>\n",
       "      <th>joke_90</th>\n",
       "      <th>joke_91</th>\n",
       "      <th>joke_93</th>\n",
       "      <th>joke_94</th>\n",
       "      <th>joke_95</th>\n",
       "      <th>joke_96</th>\n",
       "      <th>joke_97</th>\n",
       "      <th>joke_98</th>\n",
       "      <th>joke_99</th>\n",
       "      <th>100</th>\n",
       "    </tr>\n",
       "  </thead>\n",
       "  <tbody>\n",
       "    <tr>\n",
       "      <th>43</th>\n",
       "      <td>-2.8771</td>\n",
       "      <td>2.0729</td>\n",
       "      <td>2.0729</td>\n",
       "      <td>-2.1071</td>\n",
       "      <td>0.3729</td>\n",
       "      <td>5.3729</td>\n",
       "      <td>-3.6071</td>\n",
       "      <td>-3.8071</td>\n",
       "      <td>-2.8371</td>\n",
       "      <td>0.6629</td>\n",
       "      <td>...</td>\n",
       "      <td>-6.2771</td>\n",
       "      <td>-1.4271</td>\n",
       "      <td>-1.4771</td>\n",
       "      <td>-7.0571</td>\n",
       "      <td>-4.4871</td>\n",
       "      <td>-4.6271</td>\n",
       "      <td>-3.1271</td>\n",
       "      <td>-1.3271</td>\n",
       "      <td>-4.2371</td>\n",
       "      <td>6.7329</td>\n",
       "    </tr>\n",
       "    <tr>\n",
       "      <th>694</th>\n",
       "      <td>-2.6178</td>\n",
       "      <td>3.8822</td>\n",
       "      <td>6.8422</td>\n",
       "      <td>1.8022</td>\n",
       "      <td>-0.8678</td>\n",
       "      <td>7.0922</td>\n",
       "      <td>-1.0678</td>\n",
       "      <td>5.1522</td>\n",
       "      <td>7.5722</td>\n",
       "      <td>-4.4178</td>\n",
       "      <td>...</td>\n",
       "      <td>5.5822</td>\n",
       "      <td>6.8922</td>\n",
       "      <td>-4.1778</td>\n",
       "      <td>1.4622</td>\n",
       "      <td>5.2422</td>\n",
       "      <td>-0.9178</td>\n",
       "      <td>-8.2978</td>\n",
       "      <td>-7.6178</td>\n",
       "      <td>-1.5478</td>\n",
       "      <td>0.0522</td>\n",
       "    </tr>\n",
       "    <tr>\n",
       "      <th>1991</th>\n",
       "      <td>7.6162</td>\n",
       "      <td>0.6262</td>\n",
       "      <td>0.2862</td>\n",
       "      <td>0.5762</td>\n",
       "      <td>1.1562</td>\n",
       "      <td>0.3862</td>\n",
       "      <td>1.2562</td>\n",
       "      <td>1.5462</td>\n",
       "      <td>-0.5838</td>\n",
       "      <td>1.7462</td>\n",
       "      <td>...</td>\n",
       "      <td>1.0662</td>\n",
       "      <td>1.8862</td>\n",
       "      <td>5.5262</td>\n",
       "      <td>5.5762</td>\n",
       "      <td>-6.3138</td>\n",
       "      <td>0.0962</td>\n",
       "      <td>1.2562</td>\n",
       "      <td>1.9362</td>\n",
       "      <td>1.2062</td>\n",
       "      <td>1.1162</td>\n",
       "    </tr>\n",
       "    <tr>\n",
       "      <th>3241</th>\n",
       "      <td>-1.1696</td>\n",
       "      <td>0.5804</td>\n",
       "      <td>-0.2496</td>\n",
       "      <td>-0.7796</td>\n",
       "      <td>-0.8296</td>\n",
       "      <td>0.7704</td>\n",
       "      <td>1.8904</td>\n",
       "      <td>5.9204</td>\n",
       "      <td>-0.9796</td>\n",
       "      <td>-1.7096</td>\n",
       "      <td>...</td>\n",
       "      <td>-1.6096</td>\n",
       "      <td>3.6304</td>\n",
       "      <td>4.6504</td>\n",
       "      <td>-2.2896</td>\n",
       "      <td>-2.4296</td>\n",
       "      <td>-2.6796</td>\n",
       "      <td>-1.6596</td>\n",
       "      <td>2.1804</td>\n",
       "      <td>-0.9296</td>\n",
       "      <td>-0.9296</td>\n",
       "    </tr>\n",
       "    <tr>\n",
       "      <th>4135</th>\n",
       "      <td>-3.2266</td>\n",
       "      <td>0.5134</td>\n",
       "      <td>2.1634</td>\n",
       "      <td>-3.1766</td>\n",
       "      <td>1.1934</td>\n",
       "      <td>3.0334</td>\n",
       "      <td>3.5734</td>\n",
       "      <td>1.3434</td>\n",
       "      <td>-1.6666</td>\n",
       "      <td>2.6934</td>\n",
       "      <td>...</td>\n",
       "      <td>-0.4066</td>\n",
       "      <td>-0.6966</td>\n",
       "      <td>-1.9166</td>\n",
       "      <td>-3.4666</td>\n",
       "      <td>-2.6466</td>\n",
       "      <td>3.0834</td>\n",
       "      <td>1.2934</td>\n",
       "      <td>-0.8466</td>\n",
       "      <td>-3.9066</td>\n",
       "      <td>-1.7166</td>\n",
       "    </tr>\n",
       "  </tbody>\n",
       "</table>\n",
       "<p>5 rows × 27 columns</p>\n",
       "</div>"
      ],
      "text/plain": [
       "      joke_71  joke_72  joke_73  joke_74  joke_75  joke_76  joke_77  joke_78  \\\n",
       "43    -2.8771   2.0729   2.0729  -2.1071   0.3729   5.3729  -3.6071  -3.8071   \n",
       "694   -2.6178   3.8822   6.8422   1.8022  -0.8678   7.0922  -1.0678   5.1522   \n",
       "1991   7.6162   0.6262   0.2862   0.5762   1.1562   0.3862   1.2562   1.5462   \n",
       "3241  -1.1696   0.5804  -0.2496  -0.7796  -0.8296   0.7704   1.8904   5.9204   \n",
       "4135  -3.2266   0.5134   2.1634  -3.1766   1.1934   3.0334   3.5734   1.3434   \n",
       "\n",
       "      joke_80  joke_82  ...  joke_90  joke_91  joke_93  joke_94  joke_95  \\\n",
       "43    -2.8371   0.6629  ...  -6.2771  -1.4271  -1.4771  -7.0571  -4.4871   \n",
       "694    7.5722  -4.4178  ...   5.5822   6.8922  -4.1778   1.4622   5.2422   \n",
       "1991  -0.5838   1.7462  ...   1.0662   1.8862   5.5262   5.5762  -6.3138   \n",
       "3241  -0.9796  -1.7096  ...  -1.6096   3.6304   4.6504  -2.2896  -2.4296   \n",
       "4135  -1.6666   2.6934  ...  -0.4066  -0.6966  -1.9166  -3.4666  -2.6466   \n",
       "\n",
       "      joke_96  joke_97  joke_98  joke_99     100  \n",
       "43    -4.6271  -3.1271  -1.3271  -4.2371  6.7329  \n",
       "694   -0.9178  -8.2978  -7.6178  -1.5478  0.0522  \n",
       "1991   0.0962   1.2562   1.9362   1.2062  1.1162  \n",
       "3241  -2.6796  -1.6596   2.1804  -0.9296 -0.9296  \n",
       "4135   3.0834   1.2934  -0.8466  -3.9066 -1.7166  \n",
       "\n",
       "[5 rows x 27 columns]"
      ]
     },
     "execution_count": 15,
     "metadata": {},
     "output_type": "execute_result"
    }
   ],
   "source": [
    "# selecting only recommendation columns\n",
    "print('We will be suggesting one out of {} jokes to the active user \\n\\n'.format(len(recommendation_columns)))\n",
    "\n",
    "neighbours_df = neighbours_df[recommendation_columns]\n",
    "neighbours_df.head()"
   ]
  },
  {
   "cell_type": "markdown",
   "metadata": {},
   "source": [
    "#### checking score for item 0 of the recommendation_columns"
   ]
  },
  {
   "cell_type": "code",
   "execution_count": 16,
   "metadata": {},
   "outputs": [
    {
     "name": "stdout",
     "output_type": "stream",
     "text": [
      "item 0 for which we calculate the score is joke_71\n"
     ]
    },
    {
     "data": {
      "text/plain": [
       "-1.8033373756460684"
      ]
     },
     "execution_count": 16,
     "metadata": {},
     "output_type": "execute_result"
    }
   ],
   "source": [
    "item_id = recommendation_columns[0]\n",
    "print( 'item 0 for which we calculate the score is', item_id)\n",
    "\n",
    "def score_user_item(item_id, neighbours_df,neighbour_user_similarity, active_user_mean_rating ):\n",
    "    item_rating = neighbours_df[item_id]\n",
    "    t1, t2 = 0, 0\n",
    "    for similarity, norm_rating in zip(neighbour_user_similarity, item_rating):\n",
    "        t1+= norm_rating * similarity\n",
    "        t2+= similarity\n",
    "    score = (t1 + active_user_mean_rating)/t2\n",
    "    return score\n",
    "\n",
    "# checking score for a particular joke!\n",
    "score_user_item(item_id, neighbours_df,neighbour_user_similarity, active_user_mean_rating )\n",
    "        "
   ]
  },
  {
   "cell_type": "markdown",
   "metadata": {},
   "source": [
    "#### suggesting use the joke which has the highesht score among all"
   ]
  },
  {
   "cell_type": "code",
   "execution_count": 17,
   "metadata": {},
   "outputs": [
    {
     "name": "stdout",
     "output_type": "stream",
     "text": [
      "highest score is 3.9938369096759097\n",
      "The highest score obtained by the joke among all the unseen jokes is joke_89\n"
     ]
    }
   ],
   "source": [
    "# Computing user item score !\n",
    "top_score = -np.inf\n",
    "joke_to_suggest = ''\n",
    "\n",
    "for column in neighbours_df.columns:\n",
    "    score =score_user_item(column, neighbours_df,neighbour_user_similarity, active_user_mean_rating)\n",
    "    if score > top_score:\n",
    "        top_score = score\n",
    "        joke_to_suggest = column\n",
    "print('highest score is', top_score)\n",
    "print('The highest score obtained by the joke among all the unseen jokes is', joke_to_suggest, )    "
   ]
  },
  {
   "cell_type": "code",
   "execution_count": null,
   "metadata": {},
   "outputs": [],
   "source": []
  },
  {
   "cell_type": "code",
   "execution_count": null,
   "metadata": {},
   "outputs": [],
   "source": []
  }
 ],
 "metadata": {
  "kernelspec": {
   "display_name": "Python 3",
   "language": "python",
   "name": "python3"
  },
  "language_info": {
   "codemirror_mode": {
    "name": "ipython",
    "version": 3
   },
   "file_extension": ".py",
   "mimetype": "text/x-python",
   "name": "python",
   "nbconvert_exporter": "python",
   "pygments_lexer": "ipython3",
   "version": "3.7.9"
  }
 },
 "nbformat": 4,
 "nbformat_minor": 4
}
