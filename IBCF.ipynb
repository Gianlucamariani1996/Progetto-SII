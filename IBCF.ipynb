{
 "cells": [
  {
   "cell_type": "markdown",
   "metadata": {},
   "source": [
    "# Descrizione notebook\n",
    "In questo notebook si fa utilizzo dell'Item-Based Collaborative Filtering per raccomandare una barzelletta ad un utente."
   ]
  },
  {
   "cell_type": "code",
   "execution_count": 1,
   "metadata": {},
   "outputs": [],
   "source": [
    "# import delle librerie necessarie\n",
    "import numpy as np\n",
    "import pandas as pd\n",
    "from itertools import combinations\n",
    "import math"
   ]
  },
  {
   "cell_type": "code",
   "execution_count": 2,
   "metadata": {},
   "outputs": [],
   "source": [
    "# lettura dei rating normalizzati dal relativo CSV\n",
    "normalized_ratings_df = pd.read_csv('./data/normalized_ratings.csv')\n",
    "\n",
    "# lettura dei rating non normalizzati dal relativo CSV\n",
    "ratings_df = pd.read_csv('./data/jester_jokes_ratings.csv')"
   ]
  },
  {
   "cell_type": "markdown",
   "metadata": {},
   "source": [
    "# Similarità tra item: Adjusted Coseno Similarità"
   ]
  },
  {
   "cell_type": "code",
   "execution_count": 3,
   "metadata": {},
   "outputs": [],
   "source": [
    "def cosin_similarity(x, y): \n",
    "    t1, t2, t3 = 0, 0, 0 \n",
    "    for i, j in zip(x, y):\n",
    "        t1+=i*j # numeratore\n",
    "        t2+=i*i # denominatore_1\n",
    "        t3+=j*j # denominatore_2\n",
    "    return t1 / (np.sqrt(t2) * np.sqrt(t3))"
   ]
  },
  {
   "cell_type": "markdown",
   "metadata": {},
   "source": [
    "# Predizione"
   ]
  },
  {
   "cell_type": "code",
   "execution_count": 4,
   "metadata": {},
   "outputs": [],
   "source": [
    "def score_user_item(item_target, items_rated, active_user_rating, df):\n",
    "    t1, t2 = 0, 0\n",
    "    for i in items_rated:\n",
    "        sim = float(df.loc[((df['elem_1'] == item_target) & (df['elem_2'] == i)) | ((df['elem_1'] == i) & (df['elem_2'] == item_target))][\"similarity\"])\n",
    "        t1+= sim * float(active_user_rating[i]) # numeratore\n",
    "        t2+= sim # denominatore\n",
    "    score = t1 / t2\n",
    "    return score"
   ]
  },
  {
   "cell_type": "markdown",
   "metadata": {},
   "source": [
    "# Raccomandazione"
   ]
  },
  {
   "cell_type": "code",
   "execution_count": 5,
   "metadata": {
    "scrolled": true
   },
   "outputs": [
    {
     "data": {
      "text/html": [
       "<div>\n",
       "<style scoped>\n",
       "    .dataframe tbody tr th:only-of-type {\n",
       "        vertical-align: middle;\n",
       "    }\n",
       "\n",
       "    .dataframe tbody tr th {\n",
       "        vertical-align: top;\n",
       "    }\n",
       "\n",
       "    .dataframe thead th {\n",
       "        text-align: right;\n",
       "    }\n",
       "</style>\n",
       "<table border=\"1\" class=\"dataframe\">\n",
       "  <thead>\n",
       "    <tr style=\"text-align: right;\">\n",
       "      <th></th>\n",
       "      <th>elem_1</th>\n",
       "      <th>elem_2</th>\n",
       "      <th>similarity</th>\n",
       "    </tr>\n",
       "  </thead>\n",
       "  <tbody>\n",
       "    <tr>\n",
       "      <th>0</th>\n",
       "      <td>joke_1</td>\n",
       "      <td>joke_2</td>\n",
       "      <td>0.202696</td>\n",
       "    </tr>\n",
       "    <tr>\n",
       "      <th>1</th>\n",
       "      <td>joke_1</td>\n",
       "      <td>joke_3</td>\n",
       "      <td>0.173774</td>\n",
       "    </tr>\n",
       "    <tr>\n",
       "      <th>2</th>\n",
       "      <td>joke_1</td>\n",
       "      <td>joke_4</td>\n",
       "      <td>0.018405</td>\n",
       "    </tr>\n",
       "    <tr>\n",
       "      <th>3</th>\n",
       "      <td>joke_1</td>\n",
       "      <td>joke_5</td>\n",
       "      <td>0.006122</td>\n",
       "    </tr>\n",
       "    <tr>\n",
       "      <th>4</th>\n",
       "      <td>joke_1</td>\n",
       "      <td>joke_6</td>\n",
       "      <td>-0.086289</td>\n",
       "    </tr>\n",
       "  </tbody>\n",
       "</table>\n",
       "</div>"
      ],
      "text/plain": [
       "   elem_1  elem_2  similarity\n",
       "0  joke_1  joke_2    0.202696\n",
       "1  joke_1  joke_3    0.173774\n",
       "2  joke_1  joke_4    0.018405\n",
       "3  joke_1  joke_5    0.006122\n",
       "4  joke_1  joke_6   -0.086289"
      ]
     },
     "execution_count": 5,
     "metadata": {},
     "output_type": "execute_result"
    }
   ],
   "source": [
    "# si costruisce la matrice di similarità, ovvero una lista di coppie di item, per \n",
    "# ogni coppia si specifica la similarità (ad -1 a 1)\n",
    "all_jokes = (list(normalized_ratings_df.columns))[2:]\n",
    "jokes_pairs = list(combinations(all_jokes, 2))\n",
    "\n",
    "similarity_matrix = []\n",
    "\n",
    "for i_1, i_2 in jokes_pairs:\n",
    "    app = normalized_ratings_df[[i_1, i_2]].dropna()\n",
    "    similarity_matrix.append([i_1, i_2, cosin_similarity(app[i_1], app[i_2])])\n",
    "    \n",
    "df = pd.DataFrame(similarity_matrix, columns = ['elem_1', 'elem_2', 'similarity'])\n",
    "df.head()"
   ]
  },
  {
   "cell_type": "code",
   "execution_count": 6,
   "metadata": {},
   "outputs": [],
   "source": [
    "def recommendation_2(active_user_id, ratings_df, df):\n",
    "    # si prende la riga relativa all'utente con l'id specificato\n",
    "    active_user = ratings_df[ratings_df['user_id'] == active_user_id]\n",
    "    # si considerano solo i rating espressi dall'utente target\n",
    "    active_user_rating = active_user.iloc[:, 2:]\n",
    "    # si prendono le barzellette raccomandabili all'utente\n",
    "    recommendation_columns = []\n",
    "    for column in active_user_rating.columns:\n",
    "        if math.isnan(active_user_rating[column].values[0]):\n",
    "            recommendation_columns.append(column)\n",
    "\n",
    "    # si prendono le barzellette già valutate dall'utente\n",
    "    rated_items = list(set(list(active_user_rating.columns)) - set(recommendation_columns))\n",
    "    # si fa la raccomandazione\n",
    "    top_score = -np.inf\n",
    "    joke_to_suggest = ''\n",
    "    final = []\n",
    "    for joke in recommendation_columns:\n",
    "        score = score_user_item(joke, rated_items, active_user_rating, df)\n",
    "        print(\"per la barzelletta \" + joke + \" si è predetto un punteggio di: \" + str(score))\n",
    "        if score > top_score:\n",
    "            top_score = score\n",
    "            joke_to_suggest = joke\n",
    "        app_2 = {}\n",
    "        app_2[\"user_id\"] = active_user_id\n",
    "        app_2[joke] = score\n",
    "        final.append(app_2)\n",
    "    print('\\nil valore più alto predetto è ' + str(top_score) + ' su 10')\n",
    "    print('quindi la barzelletta da raccomandare per la quale si è predetto quel punteggio è: ', joke_to_suggest)\n",
    "    return final\n",
    "    "
   ]
  },
  {
   "cell_type": "code",
   "execution_count": 8,
   "metadata": {
    "scrolled": true
   },
   "outputs": [
    {
     "name": "stdout",
     "output_type": "stream",
     "text": [
      "per la barzelletta joke_1 si è predetto un punteggio di: 5.48918911153894\n",
      "per la barzelletta joke_2 si è predetto un punteggio di: 5.874896885310737\n",
      "per la barzelletta joke_3 si è predetto un punteggio di: 5.530364213231964\n",
      "per la barzelletta joke_4 si è predetto un punteggio di: 5.6830206651215\n",
      "per la barzelletta joke_9 si è predetto un punteggio di: 5.629541237464792\n",
      "per la barzelletta joke_23 si è predetto un punteggio di: 5.580920494036714\n",
      "per la barzelletta joke_24 si è predetto un punteggio di: 5.783086061131673\n",
      "per la barzelletta joke_33 si è predetto un punteggio di: 5.681675853663834\n",
      "per la barzelletta joke_37 si è predetto un punteggio di: 5.920645912010234\n",
      "per la barzelletta joke_43 si è predetto un punteggio di: 5.719735411098292\n",
      "per la barzelletta joke_47 si è predetto un punteggio di: 8.07166285418944\n",
      "per la barzelletta joke_55 si è predetto un punteggio di: 5.573499141349483\n",
      "per la barzelletta joke_57 si è predetto un punteggio di: 5.92393050044584\n",
      "per la barzelletta joke_58 si è predetto un punteggio di: 5.979317271578034\n",
      "per la barzelletta joke_60 si è predetto un punteggio di: 5.916319952555862\n",
      "per la barzelletta joke_64 si è predetto un punteggio di: 5.9759776161004226\n",
      "per la barzelletta joke_67 si è predetto un punteggio di: 5.726215401671431\n",
      "per la barzelletta joke_71 si è predetto un punteggio di: 5.4738985269520235\n",
      "per la barzelletta joke_72 si è predetto un punteggio di: 9.827958290733303\n",
      "per la barzelletta joke_73 si è predetto un punteggio di: 4.587967997499567\n",
      "per la barzelletta joke_74 si è predetto un punteggio di: 5.672264122989971\n",
      "per la barzelletta joke_75 si è predetto un punteggio di: 5.410750139215519\n",
      "per la barzelletta joke_76 si è predetto un punteggio di: -2.6734645908909513\n",
      "per la barzelletta joke_77 si è predetto un punteggio di: 4.8658485651451215\n",
      "per la barzelletta joke_78 si è predetto un punteggio di: 3.9610252276329665\n",
      "per la barzelletta joke_79 si è predetto un punteggio di: 5.062159764505648\n",
      "per la barzelletta joke_80 si è predetto un punteggio di: 4.045845836818003\n",
      "per la barzelletta joke_81 si è predetto un punteggio di: 1.4955859224161052\n",
      "per la barzelletta joke_82 si è predetto un punteggio di: 5.053253507604671\n",
      "per la barzelletta joke_83 si è predetto un punteggio di: -1.3356479151249259\n",
      "per la barzelletta joke_84 si è predetto un punteggio di: 5.0165622116004105\n",
      "per la barzelletta joke_85 si è predetto un punteggio di: 4.885617002148313\n",
      "per la barzelletta joke_86 si è predetto un punteggio di: 5.477206909088974\n",
      "per la barzelletta joke_87 si è predetto un punteggio di: 3.5571783542179523\n",
      "per la barzelletta joke_88 si è predetto un punteggio di: 3.9047163655290156\n",
      "per la barzelletta joke_89 si è predetto un punteggio di: 9.288120689770095\n",
      "per la barzelletta joke_90 si è predetto un punteggio di: 5.167449843337873\n",
      "per la barzelletta joke_91 si è predetto un punteggio di: 4.491371947442441\n",
      "per la barzelletta joke_92 si è predetto un punteggio di: 4.6983272762764665\n",
      "per la barzelletta joke_93 si è predetto un punteggio di: -6.077476549004646\n",
      "per la barzelletta joke_94 si è predetto un punteggio di: 5.210642446274966\n",
      "per la barzelletta joke_95 si è predetto un punteggio di: 5.1202386353047045\n",
      "per la barzelletta joke_96 si è predetto un punteggio di: 4.66025295865723\n",
      "per la barzelletta joke_97 si è predetto un punteggio di: 4.660128585241255\n",
      "per la barzelletta joke_98 si è predetto un punteggio di: 2.67378754559341\n",
      "per la barzelletta joke_99 si è predetto un punteggio di: 5.303777395265998\n",
      "per la barzelletta joke_100 si è predetto un punteggio di: 8.519295706358418\n",
      "\n",
      "il valore più alto predetto è 9.827958290733303 su 10\n",
      "quindi la barzelletta da raccomandare per la quale si è predetto quel punteggio è:  joke_72\n"
     ]
    },
    {
     "data": {
      "text/plain": [
       "[{'user_id': 1001, 'joke_1': 5.48918911153894},\n",
       " {'user_id': 1001, 'joke_2': 5.874896885310737},\n",
       " {'user_id': 1001, 'joke_3': 5.530364213231964},\n",
       " {'user_id': 1001, 'joke_4': 5.6830206651215},\n",
       " {'user_id': 1001, 'joke_9': 5.629541237464792},\n",
       " {'user_id': 1001, 'joke_23': 5.580920494036714},\n",
       " {'user_id': 1001, 'joke_24': 5.783086061131673},\n",
       " {'user_id': 1001, 'joke_33': 5.681675853663834},\n",
       " {'user_id': 1001, 'joke_37': 5.920645912010234},\n",
       " {'user_id': 1001, 'joke_43': 5.719735411098292},\n",
       " {'user_id': 1001, 'joke_47': 8.07166285418944},\n",
       " {'user_id': 1001, 'joke_55': 5.573499141349483},\n",
       " {'user_id': 1001, 'joke_57': 5.92393050044584},\n",
       " {'user_id': 1001, 'joke_58': 5.979317271578034},\n",
       " {'user_id': 1001, 'joke_60': 5.916319952555862},\n",
       " {'user_id': 1001, 'joke_64': 5.9759776161004226},\n",
       " {'user_id': 1001, 'joke_67': 5.726215401671431},\n",
       " {'user_id': 1001, 'joke_71': 5.4738985269520235},\n",
       " {'user_id': 1001, 'joke_72': 9.827958290733303},\n",
       " {'user_id': 1001, 'joke_73': 4.587967997499567},\n",
       " {'user_id': 1001, 'joke_74': 5.672264122989971},\n",
       " {'user_id': 1001, 'joke_75': 5.410750139215519},\n",
       " {'user_id': 1001, 'joke_76': -2.6734645908909513},\n",
       " {'user_id': 1001, 'joke_77': 4.8658485651451215},\n",
       " {'user_id': 1001, 'joke_78': 3.9610252276329665},\n",
       " {'user_id': 1001, 'joke_79': 5.062159764505648},\n",
       " {'user_id': 1001, 'joke_80': 4.045845836818003},\n",
       " {'user_id': 1001, 'joke_81': 1.4955859224161052},\n",
       " {'user_id': 1001, 'joke_82': 5.053253507604671},\n",
       " {'user_id': 1001, 'joke_83': -1.3356479151249259},\n",
       " {'user_id': 1001, 'joke_84': 5.0165622116004105},\n",
       " {'user_id': 1001, 'joke_85': 4.885617002148313},\n",
       " {'user_id': 1001, 'joke_86': 5.477206909088974},\n",
       " {'user_id': 1001, 'joke_87': 3.5571783542179523},\n",
       " {'user_id': 1001, 'joke_88': 3.9047163655290156},\n",
       " {'user_id': 1001, 'joke_89': 9.288120689770095},\n",
       " {'user_id': 1001, 'joke_90': 5.167449843337873},\n",
       " {'user_id': 1001, 'joke_91': 4.491371947442441},\n",
       " {'user_id': 1001, 'joke_92': 4.6983272762764665},\n",
       " {'user_id': 1001, 'joke_93': -6.077476549004646},\n",
       " {'user_id': 1001, 'joke_94': 5.210642446274966},\n",
       " {'user_id': 1001, 'joke_95': 5.1202386353047045},\n",
       " {'user_id': 1001, 'joke_96': 4.66025295865723},\n",
       " {'user_id': 1001, 'joke_97': 4.660128585241255},\n",
       " {'user_id': 1001, 'joke_98': 2.67378754559341},\n",
       " {'user_id': 1001, 'joke_99': 5.303777395265998},\n",
       " {'user_id': 1001, 'joke_100': 8.519295706358418}]"
      ]
     },
     "execution_count": 8,
     "metadata": {},
     "output_type": "execute_result"
    }
   ],
   "source": [
    "recommendation_2(1001, ratings_df)"
   ]
  }
 ],
 "metadata": {
  "kernelspec": {
   "display_name": "Python 3",
   "language": "python",
   "name": "python3"
  },
  "language_info": {
   "codemirror_mode": {
    "name": "ipython",
    "version": 3
   },
   "file_extension": ".py",
   "mimetype": "text/x-python",
   "name": "python",
   "nbconvert_exporter": "python",
   "pygments_lexer": "ipython3",
   "version": "3.8.5"
  }
 },
 "nbformat": 4,
 "nbformat_minor": 4
}
