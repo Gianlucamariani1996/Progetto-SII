{
 "cells": [
  {
   "cell_type": "markdown",
   "metadata": {},
   "source": [
    "\n",
    "###  In this notebook we will clean all the data and put it at on place in sql file. \n",
    "    Structure of sql file.\n",
    "        -- jokes\n",
    "        -- ratings\n",
    "        \n",
    "    We have jokes html file and ratings csv file. We will extract the joke and put it into sql data base as jokes table\n",
    "    We will put all the ratings into ratings table\n"
   ]
  },
  {
   "cell_type": "markdown",
   "metadata": {},
   "source": [
    "    Cleaning HTML file to extract joke data!"
   ]
  },
  {
   "cell_type": "code",
   "execution_count": 1,
   "metadata": {},
   "outputs": [],
   "source": [
    "import re\n",
    "import os\n",
    "import codecs\n",
    "import pandas as pd\n",
    "import html2text\n",
    "import numpy as np"
   ]
  },
  {
   "cell_type": "code",
   "execution_count": 2,
   "metadata": {},
   "outputs": [
    {
     "name": "stdout",
     "output_type": "stream",
     "text": [
      "1\n",
      "  \n",
      "A man visits the doctor. The doctor says \"I have bad news for you.You have\n",
      "cancer and Alzheimer's disease\".\n",
      "\n",
      "The man replies \"Well,thank God I don't have cancer!\"\n",
      "\n",
      "\n"
     ]
    }
   ],
   "source": [
    "file = 'init1.html'\n",
    "data = codecs.open('data/raw/jokes/' + file, 'r', encoding=\"cp1252\")\n",
    "joke_html = data.read()\n",
    "\n",
    "# Extracting joke\n",
    "joke = html2text.html2text(joke_html)\n",
    "# Extracting joke_id\n",
    "joke_id = int(file.split('init')[1].split('.html')[0])\n",
    "\n",
    "print(joke_id)\n",
    "print(joke)"
   ]
  },
  {
   "cell_type": "code",
   "execution_count": 3,
   "metadata": {},
   "outputs": [],
   "source": [
    "# creating a method that input the location of html file and output joke \n",
    "def joke_extractor(file):\n",
    "    data = codecs.open(file, 'r', encoding=\"cp1252\")\n",
    "    joke_html = data.read()\n",
    "    joke = html2text.html2text(joke_html)\n",
    "    joke_id = int(file.split('init')[1].split('.html')[0])\n",
    "    return (joke_id, joke)"
   ]
  },
  {
   "cell_type": "code",
   "execution_count": 4,
   "metadata": {},
   "outputs": [
    {
     "data": {
      "text/html": [
       "<div>\n",
       "<style scoped>\n",
       "    .dataframe tbody tr th:only-of-type {\n",
       "        vertical-align: middle;\n",
       "    }\n",
       "\n",
       "    .dataframe tbody tr th {\n",
       "        vertical-align: top;\n",
       "    }\n",
       "\n",
       "    .dataframe thead th {\n",
       "        text-align: right;\n",
       "    }\n",
       "</style>\n",
       "<table border=\"1\" class=\"dataframe\">\n",
       "  <thead>\n",
       "    <tr style=\"text-align: right;\">\n",
       "      <th></th>\n",
       "      <th>joke_id</th>\n",
       "      <th>joke</th>\n",
       "    </tr>\n",
       "  </thead>\n",
       "  <tbody>\n",
       "    <tr>\n",
       "      <th>0</th>\n",
       "      <td>95</td>\n",
       "      <td>\\n  \\nJust a thought ..\\n\\nBefore criticizin...</td>\n",
       "    </tr>\n",
       "    <tr>\n",
       "      <th>1</th>\n",
       "      <td>1</td>\n",
       "      <td>\\nA man visits the doctor. The doctor says \"...</td>\n",
       "    </tr>\n",
       "    <tr>\n",
       "      <th>2</th>\n",
       "      <td>83</td>\n",
       "      <td>\\n_What a woman says_ :  \\n\"This place is a ...</td>\n",
       "    </tr>\n",
       "    <tr>\n",
       "      <th>3</th>\n",
       "      <td>17</td>\n",
       "      <td>|  \\n\\n  \\nHow many men does it take to screw ...</td>\n",
       "    </tr>\n",
       "    <tr>\n",
       "      <th>4</th>\n",
       "      <td>40</td>\n",
       "      <td>|  \\n\\n  \\nHow many Irishmen does it take to c...</td>\n",
       "    </tr>\n",
       "  </tbody>\n",
       "</table>\n",
       "</div>"
      ],
      "text/plain": [
       "   joke_id                                               joke\n",
       "0       95    \\n  \\nJust a thought ..\\n\\nBefore criticizin...\n",
       "1        1    \\nA man visits the doctor. The doctor says \"...\n",
       "2       83    \\n_What a woman says_ :  \\n\"This place is a ...\n",
       "3       17  |  \\n\\n  \\nHow many men does it take to screw ...\n",
       "4       40  |  \\n\\n  \\nHow many Irishmen does it take to c..."
      ]
     },
     "execution_count": 4,
     "metadata": {},
     "output_type": "execute_result"
    }
   ],
   "source": [
    "files = os.listdir('data/raw/jokes')\n",
    "jokes_list = [joke_extractor('data/raw/jokes/'+ file) for file in files if file.endswith('.html') ]\n",
    "df = pd.DataFrame(jokes_list, columns=['joke_id', 'joke'])\n",
    "df.head()"
   ]
  },
  {
   "cell_type": "code",
   "execution_count": 5,
   "metadata": {},
   "outputs": [],
   "source": [
    "df.to_csv('data/jokes.csv', index = None)"
   ]
  },
  {
   "cell_type": "markdown",
   "metadata": {},
   "source": [
    "### Saving ratings data into sql table !!\n",
    "-------------------------------------------------"
   ]
  },
  {
   "cell_type": "code",
   "execution_count": 6,
   "metadata": {},
   "outputs": [],
   "source": [
    "dataframe = pd.DataFrame()\n",
    "\n",
    "df1 = pd.read_excel('data/raw/jester-data-1.xls', header = None) \n",
    "#df2 = pd.read_excel('data/raw/jester-data-2.xls', header = None) \n",
    "#df3 = pd.read_excel('data/raw/jester-data-3.xls', header = None) \n",
    "dataframe =  pd.concat([df1], axis=0)"
   ]
  },
  {
   "cell_type": "code",
   "execution_count": 7,
   "metadata": {},
   "outputs": [
    {
     "data": {
      "text/plain": [
       "Int64Index([  0,   1,   2,   3,   4,   5,   6,   7,   8,   9,\n",
       "            ...\n",
       "             91,  92,  93,  94,  95,  96,  97,  98,  99, 100],\n",
       "           dtype='int64', length=101)"
      ]
     },
     "execution_count": 7,
     "metadata": {},
     "output_type": "execute_result"
    }
   ],
   "source": [
    "dataframe.columns"
   ]
  },
  {
   "cell_type": "markdown",
   "metadata": {},
   "source": [
    "    Since ratings have no user name or any user identification tag, we we give them user id "
   ]
  },
  {
   "cell_type": "code",
   "execution_count": 8,
   "metadata": {},
   "outputs": [
    {
     "data": {
      "text/html": [
       "<div>\n",
       "<style scoped>\n",
       "    .dataframe tbody tr th:only-of-type {\n",
       "        vertical-align: middle;\n",
       "    }\n",
       "\n",
       "    .dataframe tbody tr th {\n",
       "        vertical-align: top;\n",
       "    }\n",
       "\n",
       "    .dataframe thead th {\n",
       "        text-align: right;\n",
       "    }\n",
       "</style>\n",
       "<table border=\"1\" class=\"dataframe\">\n",
       "  <thead>\n",
       "    <tr style=\"text-align: right;\">\n",
       "      <th></th>\n",
       "      <th>user_id</th>\n",
       "      <th>number_of_jokes_rated</th>\n",
       "      <th>joke_1</th>\n",
       "      <th>joke_2</th>\n",
       "      <th>joke_3</th>\n",
       "      <th>joke_4</th>\n",
       "      <th>joke_5</th>\n",
       "      <th>joke_6</th>\n",
       "      <th>joke_7</th>\n",
       "      <th>joke_8</th>\n",
       "      <th>...</th>\n",
       "      <th>joke_91</th>\n",
       "      <th>joke_92</th>\n",
       "      <th>joke_93</th>\n",
       "      <th>joke_94</th>\n",
       "      <th>joke_95</th>\n",
       "      <th>joke_96</th>\n",
       "      <th>joke_97</th>\n",
       "      <th>joke_98</th>\n",
       "      <th>joke_99</th>\n",
       "      <th>100</th>\n",
       "    </tr>\n",
       "  </thead>\n",
       "  <tbody>\n",
       "    <tr>\n",
       "      <th>0</th>\n",
       "      <td>1</td>\n",
       "      <td>74</td>\n",
       "      <td>-7.82</td>\n",
       "      <td>8.79</td>\n",
       "      <td>-9.66</td>\n",
       "      <td>-8.16</td>\n",
       "      <td>-7.52</td>\n",
       "      <td>-8.50</td>\n",
       "      <td>-9.85</td>\n",
       "      <td>4.17</td>\n",
       "      <td>...</td>\n",
       "      <td>2.82</td>\n",
       "      <td>99.00</td>\n",
       "      <td>99.00</td>\n",
       "      <td>99.00</td>\n",
       "      <td>99.00</td>\n",
       "      <td>99.00</td>\n",
       "      <td>-5.63</td>\n",
       "      <td>99.00</td>\n",
       "      <td>99.00</td>\n",
       "      <td>99.00</td>\n",
       "    </tr>\n",
       "    <tr>\n",
       "      <th>1</th>\n",
       "      <td>2</td>\n",
       "      <td>100</td>\n",
       "      <td>4.08</td>\n",
       "      <td>-0.29</td>\n",
       "      <td>6.36</td>\n",
       "      <td>4.37</td>\n",
       "      <td>-2.38</td>\n",
       "      <td>-9.66</td>\n",
       "      <td>-0.73</td>\n",
       "      <td>-5.34</td>\n",
       "      <td>...</td>\n",
       "      <td>2.82</td>\n",
       "      <td>-4.95</td>\n",
       "      <td>-0.29</td>\n",
       "      <td>7.86</td>\n",
       "      <td>-0.19</td>\n",
       "      <td>-2.14</td>\n",
       "      <td>3.06</td>\n",
       "      <td>0.34</td>\n",
       "      <td>-4.32</td>\n",
       "      <td>1.07</td>\n",
       "    </tr>\n",
       "    <tr>\n",
       "      <th>2</th>\n",
       "      <td>3</td>\n",
       "      <td>49</td>\n",
       "      <td>99.00</td>\n",
       "      <td>99.00</td>\n",
       "      <td>99.00</td>\n",
       "      <td>99.00</td>\n",
       "      <td>9.03</td>\n",
       "      <td>9.27</td>\n",
       "      <td>9.03</td>\n",
       "      <td>9.27</td>\n",
       "      <td>...</td>\n",
       "      <td>99.00</td>\n",
       "      <td>99.00</td>\n",
       "      <td>99.00</td>\n",
       "      <td>9.08</td>\n",
       "      <td>99.00</td>\n",
       "      <td>99.00</td>\n",
       "      <td>99.00</td>\n",
       "      <td>99.00</td>\n",
       "      <td>99.00</td>\n",
       "      <td>99.00</td>\n",
       "    </tr>\n",
       "    <tr>\n",
       "      <th>3</th>\n",
       "      <td>4</td>\n",
       "      <td>48</td>\n",
       "      <td>99.00</td>\n",
       "      <td>8.35</td>\n",
       "      <td>99.00</td>\n",
       "      <td>99.00</td>\n",
       "      <td>1.80</td>\n",
       "      <td>8.16</td>\n",
       "      <td>-2.82</td>\n",
       "      <td>6.21</td>\n",
       "      <td>...</td>\n",
       "      <td>99.00</td>\n",
       "      <td>99.00</td>\n",
       "      <td>99.00</td>\n",
       "      <td>0.53</td>\n",
       "      <td>99.00</td>\n",
       "      <td>99.00</td>\n",
       "      <td>99.00</td>\n",
       "      <td>99.00</td>\n",
       "      <td>99.00</td>\n",
       "      <td>99.00</td>\n",
       "    </tr>\n",
       "    <tr>\n",
       "      <th>4</th>\n",
       "      <td>5</td>\n",
       "      <td>91</td>\n",
       "      <td>8.50</td>\n",
       "      <td>4.61</td>\n",
       "      <td>-4.17</td>\n",
       "      <td>-5.39</td>\n",
       "      <td>1.36</td>\n",
       "      <td>1.60</td>\n",
       "      <td>7.04</td>\n",
       "      <td>4.61</td>\n",
       "      <td>...</td>\n",
       "      <td>5.19</td>\n",
       "      <td>5.58</td>\n",
       "      <td>4.27</td>\n",
       "      <td>5.19</td>\n",
       "      <td>5.73</td>\n",
       "      <td>1.55</td>\n",
       "      <td>3.11</td>\n",
       "      <td>6.55</td>\n",
       "      <td>1.80</td>\n",
       "      <td>1.60</td>\n",
       "    </tr>\n",
       "  </tbody>\n",
       "</table>\n",
       "<p>5 rows × 102 columns</p>\n",
       "</div>"
      ],
      "text/plain": [
       "   user_id  number_of_jokes_rated  joke_1  joke_2  joke_3  joke_4  joke_5  \\\n",
       "0        1                     74   -7.82    8.79   -9.66   -8.16   -7.52   \n",
       "1        2                    100    4.08   -0.29    6.36    4.37   -2.38   \n",
       "2        3                     49   99.00   99.00   99.00   99.00    9.03   \n",
       "3        4                     48   99.00    8.35   99.00   99.00    1.80   \n",
       "4        5                     91    8.50    4.61   -4.17   -5.39    1.36   \n",
       "\n",
       "   joke_6  joke_7  joke_8  ...  joke_91  joke_92  joke_93  joke_94  joke_95  \\\n",
       "0   -8.50   -9.85    4.17  ...     2.82    99.00    99.00    99.00    99.00   \n",
       "1   -9.66   -0.73   -5.34  ...     2.82    -4.95    -0.29     7.86    -0.19   \n",
       "2    9.27    9.03    9.27  ...    99.00    99.00    99.00     9.08    99.00   \n",
       "3    8.16   -2.82    6.21  ...    99.00    99.00    99.00     0.53    99.00   \n",
       "4    1.60    7.04    4.61  ...     5.19     5.58     4.27     5.19     5.73   \n",
       "\n",
       "   joke_96  joke_97  joke_98  joke_99    100  \n",
       "0    99.00    -5.63    99.00    99.00  99.00  \n",
       "1    -2.14     3.06     0.34    -4.32   1.07  \n",
       "2    99.00    99.00    99.00    99.00  99.00  \n",
       "3    99.00    99.00    99.00    99.00  99.00  \n",
       "4     1.55     3.11     6.55     1.80   1.60  \n",
       "\n",
       "[5 rows x 102 columns]"
      ]
     },
     "execution_count": 8,
     "metadata": {},
     "output_type": "execute_result"
    }
   ],
   "source": [
    "user_id = np.linspace(1, len(dataframe), len(dataframe))\n",
    "dataframe.insert(0, 'user_id', user_id)\n",
    "dataframe = dataframe.rename({0: 'number_of_jokes_rated'}, axis='columns')\n",
    "for i in range(1, 100):\n",
    "    dataframe = dataframe.rename({i: 'joke_'+str(i)}, axis='columns')\n",
    "dataframe = dataframe.astype({\"user_id\": int})\n",
    "dataframe.head()"
   ]
  },
  {
   "cell_type": "markdown",
   "metadata": {},
   "source": [
    "#### Also saving a copy of data into csv format !"
   ]
  },
  {
   "cell_type": "code",
   "execution_count": 9,
   "metadata": {},
   "outputs": [],
   "source": [
    "dataframe.to_csv('data/jester_jokes_rating.csv', index = None)"
   ]
  },
  {
   "cell_type": "markdown",
   "metadata": {},
   "source": [
    "-----------------------------------------------\n",
    "                                                        END\n",
    "\n",
    "-----------------------------------"
   ]
  }
 ],
 "metadata": {
  "kernelspec": {
   "display_name": "Python 3",
   "language": "python",
   "name": "python3"
  },
  "language_info": {
   "codemirror_mode": {
    "name": "ipython",
    "version": 3
   },
   "file_extension": ".py",
   "mimetype": "text/x-python",
   "name": "python",
   "nbconvert_exporter": "python",
   "pygments_lexer": "ipython3",
   "version": "3.7.9"
  }
 },
 "nbformat": 4,
 "nbformat_minor": 4
}
