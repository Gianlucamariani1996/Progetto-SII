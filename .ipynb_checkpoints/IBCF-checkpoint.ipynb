{
 "cells": [
  {
   "cell_type": "markdown",
   "metadata": {},
   "source": [
    "# Descrizione notebook\n",
    "In questo notebook si fa utilizzo dell'Item-Based Collaborative Filtering per raccomandare una barzelletta ad un utente."
   ]
  },
  {
   "cell_type": "code",
   "execution_count": 1,
   "metadata": {},
   "outputs": [],
   "source": [
    "# import delle librerie necessarie\n",
    "import numpy as np\n",
    "import pandas as pd\n",
    "from itertools import combinations\n",
    "import math"
   ]
  },
  {
   "cell_type": "code",
   "execution_count": 2,
   "metadata": {},
   "outputs": [],
   "source": [
    "# lettura dei rating normalizzati dal relativo CSV\n",
    "normalized_ratings_df = pd.read_csv('./data/normalized_ratings.csv')\n",
    "\n",
    "# lettura dei rating non normalizzati dal relativo CSV\n",
    "no_normalized_ratings_df = pd.read_csv('./data/no_normalized_ratings.csv')"
   ]
  },
  {
   "cell_type": "markdown",
   "metadata": {},
   "source": [
    "# Similarità tra item: Adjusted Coseno Similarità"
   ]
  },
  {
   "cell_type": "code",
   "execution_count": 3,
   "metadata": {},
   "outputs": [],
   "source": [
    "def cosin_similarity(x, y): \n",
    "    t1, t2, t3 = 0, 0, 0 \n",
    "    for i, j in zip(x, y):\n",
    "        t1+=i*j # numeratore\n",
    "        t2+=i*i # denominatore_1\n",
    "        t3+=j*j # denominatore_2\n",
    "    return t1 / (np.sqrt(t2) * np.sqrt(t3))"
   ]
  },
  {
   "cell_type": "markdown",
   "metadata": {},
   "source": [
    "# Predizione"
   ]
  },
  {
   "cell_type": "code",
   "execution_count": 4,
   "metadata": {},
   "outputs": [],
   "source": [
    "def score_user_item(item_target, items_rated, active_user_rating, similarity_matrix):\n",
    "    t1, t2 = 0, 0\n",
    "    for i in items_rated:\n",
    "        sim = float(similarity_matrix.loc[((similarity_matrix['elem_1'] == item_target) & (similarity_matrix['elem_2'] == i)) | ((similarity_matrix['elem_1'] == i) & (similarity_matrix['elem_2'] == item_target))][\"similarity\"])\n",
    "        t1+= sim * float(active_user_rating[i]) # numeratore\n",
    "        t2+= sim # denominatore\n",
    "    score = t1 / t2\n",
    "    return score"
   ]
  },
  {
   "cell_type": "markdown",
   "metadata": {},
   "source": [
    "# Raccomandazione"
   ]
  },
  {
   "cell_type": "code",
   "execution_count": 5,
   "metadata": {
    "scrolled": false
   },
   "outputs": [
    {
     "data": {
      "text/html": [
       "<div>\n",
       "<style scoped>\n",
       "    .dataframe tbody tr th:only-of-type {\n",
       "        vertical-align: middle;\n",
       "    }\n",
       "\n",
       "    .dataframe tbody tr th {\n",
       "        vertical-align: top;\n",
       "    }\n",
       "\n",
       "    .dataframe thead th {\n",
       "        text-align: right;\n",
       "    }\n",
       "</style>\n",
       "<table border=\"1\" class=\"dataframe\">\n",
       "  <thead>\n",
       "    <tr style=\"text-align: right;\">\n",
       "      <th></th>\n",
       "      <th>elem_1</th>\n",
       "      <th>elem_2</th>\n",
       "      <th>similarity</th>\n",
       "    </tr>\n",
       "  </thead>\n",
       "  <tbody>\n",
       "    <tr>\n",
       "      <th>0</th>\n",
       "      <td>joke_1</td>\n",
       "      <td>joke_2</td>\n",
       "      <td>0.202696</td>\n",
       "    </tr>\n",
       "    <tr>\n",
       "      <th>1</th>\n",
       "      <td>joke_1</td>\n",
       "      <td>joke_3</td>\n",
       "      <td>0.173774</td>\n",
       "    </tr>\n",
       "    <tr>\n",
       "      <th>2</th>\n",
       "      <td>joke_1</td>\n",
       "      <td>joke_4</td>\n",
       "      <td>0.018405</td>\n",
       "    </tr>\n",
       "    <tr>\n",
       "      <th>3</th>\n",
       "      <td>joke_1</td>\n",
       "      <td>joke_5</td>\n",
       "      <td>0.006122</td>\n",
       "    </tr>\n",
       "    <tr>\n",
       "      <th>4</th>\n",
       "      <td>joke_1</td>\n",
       "      <td>joke_6</td>\n",
       "      <td>-0.086289</td>\n",
       "    </tr>\n",
       "  </tbody>\n",
       "</table>\n",
       "</div>"
      ],
      "text/plain": [
       "   elem_1  elem_2  similarity\n",
       "0  joke_1  joke_2    0.202696\n",
       "1  joke_1  joke_3    0.173774\n",
       "2  joke_1  joke_4    0.018405\n",
       "3  joke_1  joke_5    0.006122\n",
       "4  joke_1  joke_6   -0.086289"
      ]
     },
     "execution_count": 5,
     "metadata": {},
     "output_type": "execute_result"
    }
   ],
   "source": [
    "# si costruisce la matrice di similarità, ovvero una lista di coppie di item, per \n",
    "# ogni coppia si specifica la similarità (ad -1 a 1)\n",
    "all_jokes = (list(normalized_ratings_df.columns))[2:]\n",
    "jokes_pairs = list(combinations(all_jokes, 2))\n",
    "\n",
    "similarity_matrix = []\n",
    "\n",
    "for i_1, i_2 in jokes_pairs:\n",
    "    app = normalized_ratings_df[[i_1, i_2]].dropna()\n",
    "    similarity_matrix.append([i_1, i_2, cosin_similarity(app[i_1], app[i_2])])\n",
    "    \n",
    "similarity_matrix = pd.DataFrame(similarity_matrix, columns = ['elem_1', 'elem_2', 'similarity'])\n",
    "similarity_matrix.head()"
   ]
  },
  {
   "cell_type": "code",
   "execution_count": 8,
   "metadata": {},
   "outputs": [],
   "source": [
    "def recommendation_2(active_user_id, no_normalized_ratings_df, similarity_matrix):\n",
    "    # si prende la riga relativa all'utente con l'id specificato\n",
    "    active_user = no_normalized_ratings_df[no_normalized_ratings_df['user_id'] == active_user_id]\n",
    "    # si considerano solo i rating espressi dall'utente target\n",
    "    active_user_rating = active_user.iloc[:, 2:]\n",
    "    # si prendono le barzellette raccomandabili all'utente\n",
    "    recommendation_columns = []\n",
    "    for column in active_user_rating.columns:\n",
    "        if math.isnan(active_user_rating[column].values[0]):\n",
    "            recommendation_columns.append(column)\n",
    "\n",
    "    # si prendono le barzellette già valutate dall'utente\n",
    "    rated_items = list(set(list(active_user_rating.columns)) - set(recommendation_columns))\n",
    "    # si fa la raccomandazione\n",
    "    top_score = -np.inf\n",
    "    joke_to_suggest = ''\n",
    "    final = []\n",
    "    for joke in recommendation_columns:\n",
    "        score = score_user_item(joke, rated_items, active_user_rating, similarity_matrix)\n",
    "        print(\"per la barzelletta \" + joke + \" si è predetto un punteggio di: \" + str(score))\n",
    "        if score > top_score:\n",
    "            top_score = score\n",
    "            joke_to_suggest = joke\n",
    "        app_2 = {}\n",
    "        app_2[\"user_id\"] = active_user_id\n",
    "        app_2[joke] = score\n",
    "        final.append(app_2)\n",
    "    print('\\nil valore più alto predetto è ' + str(top_score) + ' su 10')\n",
    "    print('quindi la barzelletta da raccomandare per la quale si è predetto quel punteggio è: ', joke_to_suggest)\n",
    "    return final\n",
    "    "
   ]
  },
  {
   "cell_type": "code",
   "execution_count": 9,
   "metadata": {
    "scrolled": true
   },
   "outputs": [
    {
     "name": "stdout",
     "output_type": "stream",
     "text": [
      "per la barzelletta joke_1 si è predetto un punteggio di: 5.489189111538942\n",
      "per la barzelletta joke_2 si è predetto un punteggio di: 5.87489688531074\n",
      "per la barzelletta joke_3 si è predetto un punteggio di: 5.530364213231963\n",
      "per la barzelletta joke_4 si è predetto un punteggio di: 5.683020665121501\n",
      "per la barzelletta joke_9 si è predetto un punteggio di: 5.629541237464796\n",
      "per la barzelletta joke_23 si è predetto un punteggio di: 5.5809204940367145\n",
      "per la barzelletta joke_24 si è predetto un punteggio di: 5.7830860611316695\n",
      "per la barzelletta joke_33 si è predetto un punteggio di: 5.6816758536638385\n",
      "per la barzelletta joke_37 si è predetto un punteggio di: 5.920645912010233\n",
      "per la barzelletta joke_43 si è predetto un punteggio di: 5.719735411098295\n",
      "per la barzelletta joke_47 si è predetto un punteggio di: 8.071662854189437\n",
      "per la barzelletta joke_55 si è predetto un punteggio di: 5.573499141349482\n",
      "per la barzelletta joke_57 si è predetto un punteggio di: 5.923930500445841\n",
      "per la barzelletta joke_58 si è predetto un punteggio di: 5.9793172715780365\n",
      "per la barzelletta joke_60 si è predetto un punteggio di: 5.916319952555864\n",
      "per la barzelletta joke_64 si è predetto un punteggio di: 5.975977616100421\n",
      "per la barzelletta joke_67 si è predetto un punteggio di: 5.726215401671424\n",
      "per la barzelletta joke_71 si è predetto un punteggio di: 5.473898526952023\n",
      "per la barzelletta joke_72 si è predetto un punteggio di: 9.827958290733308\n",
      "per la barzelletta joke_73 si è predetto un punteggio di: 4.587967997499566\n",
      "per la barzelletta joke_74 si è predetto un punteggio di: 5.67226412298997\n",
      "per la barzelletta joke_75 si è predetto un punteggio di: 5.410750139215516\n",
      "per la barzelletta joke_76 si è predetto un punteggio di: -2.6734645908909527\n",
      "per la barzelletta joke_77 si è predetto un punteggio di: 4.865848565145123\n",
      "per la barzelletta joke_78 si è predetto un punteggio di: 3.961025227632968\n",
      "per la barzelletta joke_79 si è predetto un punteggio di: 5.062159764505647\n",
      "per la barzelletta joke_80 si è predetto un punteggio di: 4.045845836818003\n",
      "per la barzelletta joke_81 si è predetto un punteggio di: 1.4955859224161039\n",
      "per la barzelletta joke_82 si è predetto un punteggio di: 5.053253507604671\n",
      "per la barzelletta joke_83 si è predetto un punteggio di: -1.3356479151249347\n",
      "per la barzelletta joke_84 si è predetto un punteggio di: 5.016562211600409\n",
      "per la barzelletta joke_85 si è predetto un punteggio di: 4.8856170021483125\n",
      "per la barzelletta joke_86 si è predetto un punteggio di: 5.477206909088977\n",
      "per la barzelletta joke_87 si è predetto un punteggio di: 3.5571783542179523\n",
      "per la barzelletta joke_88 si è predetto un punteggio di: 3.904716365529014\n",
      "per la barzelletta joke_89 si è predetto un punteggio di: 9.288120689770098\n",
      "per la barzelletta joke_90 si è predetto un punteggio di: 5.167449843337873\n",
      "per la barzelletta joke_91 si è predetto un punteggio di: 4.491371947442441\n",
      "per la barzelletta joke_92 si è predetto un punteggio di: 4.6983272762764665\n",
      "per la barzelletta joke_93 si è predetto un punteggio di: -6.077476549004643\n",
      "per la barzelletta joke_94 si è predetto un punteggio di: 5.210642446274965\n",
      "per la barzelletta joke_95 si è predetto un punteggio di: 5.120238635304701\n",
      "per la barzelletta joke_96 si è predetto un punteggio di: 4.660252958657232\n",
      "per la barzelletta joke_97 si è predetto un punteggio di: 4.660128585241255\n",
      "per la barzelletta joke_98 si è predetto un punteggio di: 2.6737875455934113\n",
      "per la barzelletta joke_99 si è predetto un punteggio di: 5.303777395265997\n",
      "per la barzelletta joke_100 si è predetto un punteggio di: 8.519295706358418\n",
      "\n",
      "il valore più alto predetto è 9.827958290733308 su 10\n",
      "quindi la barzelletta da raccomandare per la quale si è predetto quel punteggio è:  joke_72\n"
     ]
    },
    {
     "data": {
      "text/plain": [
       "[{'user_id': 1001, 'joke_1': 5.489189111538942},\n",
       " {'user_id': 1001, 'joke_2': 5.87489688531074},\n",
       " {'user_id': 1001, 'joke_3': 5.530364213231963},\n",
       " {'user_id': 1001, 'joke_4': 5.683020665121501},\n",
       " {'user_id': 1001, 'joke_9': 5.629541237464796},\n",
       " {'user_id': 1001, 'joke_23': 5.5809204940367145},\n",
       " {'user_id': 1001, 'joke_24': 5.7830860611316695},\n",
       " {'user_id': 1001, 'joke_33': 5.6816758536638385},\n",
       " {'user_id': 1001, 'joke_37': 5.920645912010233},\n",
       " {'user_id': 1001, 'joke_43': 5.719735411098295},\n",
       " {'user_id': 1001, 'joke_47': 8.071662854189437},\n",
       " {'user_id': 1001, 'joke_55': 5.573499141349482},\n",
       " {'user_id': 1001, 'joke_57': 5.923930500445841},\n",
       " {'user_id': 1001, 'joke_58': 5.9793172715780365},\n",
       " {'user_id': 1001, 'joke_60': 5.916319952555864},\n",
       " {'user_id': 1001, 'joke_64': 5.975977616100421},\n",
       " {'user_id': 1001, 'joke_67': 5.726215401671424},\n",
       " {'user_id': 1001, 'joke_71': 5.473898526952023},\n",
       " {'user_id': 1001, 'joke_72': 9.827958290733308},\n",
       " {'user_id': 1001, 'joke_73': 4.587967997499566},\n",
       " {'user_id': 1001, 'joke_74': 5.67226412298997},\n",
       " {'user_id': 1001, 'joke_75': 5.410750139215516},\n",
       " {'user_id': 1001, 'joke_76': -2.6734645908909527},\n",
       " {'user_id': 1001, 'joke_77': 4.865848565145123},\n",
       " {'user_id': 1001, 'joke_78': 3.961025227632968},\n",
       " {'user_id': 1001, 'joke_79': 5.062159764505647},\n",
       " {'user_id': 1001, 'joke_80': 4.045845836818003},\n",
       " {'user_id': 1001, 'joke_81': 1.4955859224161039},\n",
       " {'user_id': 1001, 'joke_82': 5.053253507604671},\n",
       " {'user_id': 1001, 'joke_83': -1.3356479151249347},\n",
       " {'user_id': 1001, 'joke_84': 5.016562211600409},\n",
       " {'user_id': 1001, 'joke_85': 4.8856170021483125},\n",
       " {'user_id': 1001, 'joke_86': 5.477206909088977},\n",
       " {'user_id': 1001, 'joke_87': 3.5571783542179523},\n",
       " {'user_id': 1001, 'joke_88': 3.904716365529014},\n",
       " {'user_id': 1001, 'joke_89': 9.288120689770098},\n",
       " {'user_id': 1001, 'joke_90': 5.167449843337873},\n",
       " {'user_id': 1001, 'joke_91': 4.491371947442441},\n",
       " {'user_id': 1001, 'joke_92': 4.6983272762764665},\n",
       " {'user_id': 1001, 'joke_93': -6.077476549004643},\n",
       " {'user_id': 1001, 'joke_94': 5.210642446274965},\n",
       " {'user_id': 1001, 'joke_95': 5.120238635304701},\n",
       " {'user_id': 1001, 'joke_96': 4.660252958657232},\n",
       " {'user_id': 1001, 'joke_97': 4.660128585241255},\n",
       " {'user_id': 1001, 'joke_98': 2.6737875455934113},\n",
       " {'user_id': 1001, 'joke_99': 5.303777395265997},\n",
       " {'user_id': 1001, 'joke_100': 8.519295706358418}]"
      ]
     },
     "execution_count": 9,
     "metadata": {},
     "output_type": "execute_result"
    }
   ],
   "source": [
    "recommendation_2(1001, no_normalized_ratings_df, similarity_matrix)"
   ]
  }
 ],
 "metadata": {
  "kernelspec": {
   "display_name": "Python 3",
   "language": "python",
   "name": "python3"
  },
  "language_info": {
   "codemirror_mode": {
    "name": "ipython",
    "version": 3
   },
   "file_extension": ".py",
   "mimetype": "text/x-python",
   "name": "python",
   "nbconvert_exporter": "python",
   "pygments_lexer": "ipython3",
   "version": "3.8.5"
  }
 },
 "nbformat": 4,
 "nbformat_minor": 4
}
