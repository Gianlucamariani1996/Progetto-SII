{
 "cells": [
  {
   "cell_type": "markdown",
   "metadata": {},
   "source": [
    "# Utilizzo del User-Based Collaborative Filtering"
   ]
  },
  {
   "cell_type": "code",
   "execution_count": 1,
   "metadata": {},
   "outputs": [],
   "source": [
    "# import delle librerie necessarie\n",
    "import numpy as np\n",
    "import pandas as pd"
   ]
  },
  {
   "cell_type": "code",
   "execution_count": 2,
   "metadata": {},
   "outputs": [],
   "source": [
    "# funzione per trovare la similarità tra due utenti: Coefficiente di Pearson\n",
    "def weight_factor(x, y): \n",
    "    t1, t2, t3 = 0, 0, 0 \n",
    "    for i, j in zip(x, y):\n",
    "        t1+=i*j\n",
    "        t2+=i*i\n",
    "        t3+=j*j\n",
    "    return t1/(np.sqrt(t2) * np.sqrt(t3))"
   ]
  },
  {
   "cell_type": "code",
   "execution_count": 3,
   "metadata": {},
   "outputs": [
    {
     "data": {
      "text/html": [
       "<div>\n",
       "<style scoped>\n",
       "    .dataframe tbody tr th:only-of-type {\n",
       "        vertical-align: middle;\n",
       "    }\n",
       "\n",
       "    .dataframe tbody tr th {\n",
       "        vertical-align: top;\n",
       "    }\n",
       "\n",
       "    .dataframe thead th {\n",
       "        text-align: right;\n",
       "    }\n",
       "</style>\n",
       "<table border=\"1\" class=\"dataframe\">\n",
       "  <thead>\n",
       "    <tr style=\"text-align: right;\">\n",
       "      <th></th>\n",
       "      <th>user_id</th>\n",
       "      <th>number_of_jokes_rated</th>\n",
       "      <th>joke_1</th>\n",
       "      <th>joke_2</th>\n",
       "      <th>joke_3</th>\n",
       "      <th>joke_4</th>\n",
       "      <th>joke_5</th>\n",
       "      <th>joke_6</th>\n",
       "      <th>joke_7</th>\n",
       "      <th>joke_8</th>\n",
       "      <th>...</th>\n",
       "      <th>joke_91</th>\n",
       "      <th>joke_92</th>\n",
       "      <th>joke_93</th>\n",
       "      <th>joke_94</th>\n",
       "      <th>joke_95</th>\n",
       "      <th>joke_96</th>\n",
       "      <th>joke_97</th>\n",
       "      <th>joke_98</th>\n",
       "      <th>joke_99</th>\n",
       "      <th>100</th>\n",
       "    </tr>\n",
       "  </thead>\n",
       "  <tbody>\n",
       "    <tr>\n",
       "      <th>0</th>\n",
       "      <td>1</td>\n",
       "      <td>74</td>\n",
       "      <td>-4.388108</td>\n",
       "      <td>12.221892</td>\n",
       "      <td>-6.228108</td>\n",
       "      <td>-4.728108</td>\n",
       "      <td>-4.088108</td>\n",
       "      <td>-5.068108</td>\n",
       "      <td>-6.418108</td>\n",
       "      <td>7.601892</td>\n",
       "      <td>...</td>\n",
       "      <td>6.251892</td>\n",
       "      <td>0.0000</td>\n",
       "      <td>0.0000</td>\n",
       "      <td>0.0000</td>\n",
       "      <td>0.0000</td>\n",
       "      <td>0.0000</td>\n",
       "      <td>-2.198108</td>\n",
       "      <td>0.0000</td>\n",
       "      <td>0.0000</td>\n",
       "      <td>0.0000</td>\n",
       "    </tr>\n",
       "    <tr>\n",
       "      <th>1</th>\n",
       "      <td>2</td>\n",
       "      <td>100</td>\n",
       "      <td>1.333700</td>\n",
       "      <td>-3.036300</td>\n",
       "      <td>3.613700</td>\n",
       "      <td>1.623700</td>\n",
       "      <td>-5.126300</td>\n",
       "      <td>-12.406300</td>\n",
       "      <td>-3.476300</td>\n",
       "      <td>-8.086300</td>\n",
       "      <td>...</td>\n",
       "      <td>0.073700</td>\n",
       "      <td>-7.6963</td>\n",
       "      <td>-3.0363</td>\n",
       "      <td>5.1137</td>\n",
       "      <td>-2.9363</td>\n",
       "      <td>-4.8863</td>\n",
       "      <td>0.313700</td>\n",
       "      <td>-2.4063</td>\n",
       "      <td>-7.0663</td>\n",
       "      <td>-1.6763</td>\n",
       "    </tr>\n",
       "  </tbody>\n",
       "</table>\n",
       "<p>2 rows × 102 columns</p>\n",
       "</div>"
      ],
      "text/plain": [
       "   user_id  number_of_jokes_rated    joke_1     joke_2    joke_3    joke_4  \\\n",
       "0        1                     74 -4.388108  12.221892 -6.228108 -4.728108   \n",
       "1        2                    100  1.333700  -3.036300  3.613700  1.623700   \n",
       "\n",
       "     joke_5     joke_6    joke_7    joke_8  ...   joke_91  joke_92  joke_93  \\\n",
       "0 -4.088108  -5.068108 -6.418108  7.601892  ...  6.251892   0.0000   0.0000   \n",
       "1 -5.126300 -12.406300 -3.476300 -8.086300  ...  0.073700  -7.6963  -3.0363   \n",
       "\n",
       "   joke_94  joke_95  joke_96   joke_97  joke_98  joke_99     100  \n",
       "0   0.0000   0.0000   0.0000 -2.198108   0.0000   0.0000  0.0000  \n",
       "1   5.1137  -2.9363  -4.8863  0.313700  -2.4063  -7.0663 -1.6763  \n",
       "\n",
       "[2 rows x 102 columns]"
      ]
     },
     "execution_count": 3,
     "metadata": {},
     "output_type": "execute_result"
    }
   ],
   "source": [
    "# lettura dei rating normalizzati dal relativo CSV\n",
    "normalized_ratings_df = pd.read_csv('./data/normalized_ratings.csv')\n",
    "\n",
    "# lettura dei rating non normalizzati dal relativo CSV\n",
    "ratings_df = pd.read_csv('./data/jester_jokes_ratings.csv')\n",
    "\n",
    "normalized_ratings_df.head(2)"
   ]
  },
  {
   "cell_type": "markdown",
   "metadata": {},
   "source": [
    "## Separazione dei rating normalizzati"
   ]
  },
  {
   "cell_type": "markdown",
   "metadata": {},
   "source": [
    "Si separano i rating noramlizzati in due parti: \n",
    "1. una parte contenente tutti gli utenti che hanno valutato tutte e 100 le barzellette;\n",
    "2. una parte contenente tutti gli utenti che non hanno valutato tutte le barzellette.\n",
    "\n",
    "Si seleziona poi l'utente target (al quale si vuole fare una raccomandazione) dalla matrice sparsa e si cercano i vicini di quell'utente nella la matrice non sparsa."
   ]
  },
  {
   "cell_type": "code",
   "execution_count": 4,
   "metadata": {},
   "outputs": [
    {
     "name": "stdout",
     "output_type": "stream",
     "text": [
      "totale utenti che hanno valutato tutte le barzellette:  7200\n",
      "totale utenti che non hanno valutato tutte le barzellette:  17783\n"
     ]
    }
   ],
   "source": [
    "# utenti che hanno valutato tutte e 100 le barzellette\n",
    "complete_ratings = normalized_ratings_df[normalized_ratings_df['number_of_jokes_rated'] == 100]\n",
    "print('totale utenti che hanno valutato tutte le barzellette: ', len(complete_ratings))\n",
    "\n",
    "# utenti che non hanno valutato tutte le barzellette\n",
    "sparse_ratings = normalized_ratings_df[normalized_ratings_df['number_of_jokes_rated'] != 100]\n",
    "print('totale utenti che non hanno valutato tutte le barzellette: ', len(sparse_ratings))"
   ]
  },
  {
   "cell_type": "code",
   "execution_count": 5,
   "metadata": {
    "scrolled": true
   },
   "outputs": [
    {
     "name": "stdout",
     "output_type": "stream",
     "text": [
      "id dell'utente target: 1352\n"
     ]
    }
   ],
   "source": [
    "# selezione dell'utente target in maniera random\n",
    "n = 1000\n",
    "active_user_id = sparse_ratings.iloc[n, 0]\n",
    "print(\"id dell'utente target: {}\".format(str(active_user_id)))"
   ]
  },
  {
   "cell_type": "code",
   "execution_count": 6,
   "metadata": {
    "scrolled": true
   },
   "outputs": [
    {
     "name": "stdout",
     "output_type": "stream",
     "text": [
      "valutazioni date da utente con id 1352 per le 100 barzellette\n"
     ]
    },
    {
     "data": {
      "text/html": [
       "<div>\n",
       "<style scoped>\n",
       "    .dataframe tbody tr th:only-of-type {\n",
       "        vertical-align: middle;\n",
       "    }\n",
       "\n",
       "    .dataframe tbody tr th {\n",
       "        vertical-align: top;\n",
       "    }\n",
       "\n",
       "    .dataframe thead th {\n",
       "        text-align: right;\n",
       "    }\n",
       "</style>\n",
       "<table border=\"1\" class=\"dataframe\">\n",
       "  <thead>\n",
       "    <tr style=\"text-align: right;\">\n",
       "      <th></th>\n",
       "      <th>joke_1</th>\n",
       "      <th>joke_2</th>\n",
       "      <th>joke_3</th>\n",
       "      <th>joke_4</th>\n",
       "      <th>joke_5</th>\n",
       "      <th>joke_6</th>\n",
       "      <th>joke_7</th>\n",
       "      <th>joke_8</th>\n",
       "      <th>joke_9</th>\n",
       "      <th>joke_10</th>\n",
       "      <th>...</th>\n",
       "      <th>joke_91</th>\n",
       "      <th>joke_92</th>\n",
       "      <th>joke_93</th>\n",
       "      <th>joke_94</th>\n",
       "      <th>joke_95</th>\n",
       "      <th>joke_96</th>\n",
       "      <th>joke_97</th>\n",
       "      <th>joke_98</th>\n",
       "      <th>joke_99</th>\n",
       "      <th>100</th>\n",
       "    </tr>\n",
       "  </thead>\n",
       "  <tbody>\n",
       "    <tr>\n",
       "      <th>1351</th>\n",
       "      <td>7.871096</td>\n",
       "      <td>-1.888904</td>\n",
       "      <td>-2.568904</td>\n",
       "      <td>-1.118904</td>\n",
       "      <td>2.821096</td>\n",
       "      <td>-4.078904</td>\n",
       "      <td>-0.188904</td>\n",
       "      <td>1.891096</td>\n",
       "      <td>-2.568904</td>\n",
       "      <td>3.931096</td>\n",
       "      <td>...</td>\n",
       "      <td>0.0</td>\n",
       "      <td>-3.448904</td>\n",
       "      <td>0.0</td>\n",
       "      <td>0.0</td>\n",
       "      <td>0.0</td>\n",
       "      <td>0.0</td>\n",
       "      <td>0.0</td>\n",
       "      <td>0.0</td>\n",
       "      <td>0.0</td>\n",
       "      <td>0.0</td>\n",
       "    </tr>\n",
       "  </tbody>\n",
       "</table>\n",
       "<p>1 rows × 100 columns</p>\n",
       "</div>"
      ],
      "text/plain": [
       "        joke_1    joke_2    joke_3    joke_4    joke_5    joke_6    joke_7  \\\n",
       "1351  7.871096 -1.888904 -2.568904 -1.118904  2.821096 -4.078904 -0.188904   \n",
       "\n",
       "        joke_8    joke_9   joke_10  ...  joke_91   joke_92  joke_93  joke_94  \\\n",
       "1351  1.891096 -2.568904  3.931096  ...      0.0 -3.448904      0.0      0.0   \n",
       "\n",
       "      joke_95  joke_96  joke_97  joke_98  joke_99  100  \n",
       "1351      0.0      0.0      0.0      0.0      0.0  0.0  \n",
       "\n",
       "[1 rows x 100 columns]"
      ]
     },
     "execution_count": 6,
     "metadata": {},
     "output_type": "execute_result"
    }
   ],
   "source": [
    "print('valutazioni date da utente con id {} per le 100 barzellette'.format(str(active_user_id)))\n",
    "active_user = sparse_ratings[sparse_ratings['user_id'] == active_user_id]\n",
    "active_user_rating = active_user.iloc[:, 2:]\n",
    "active_user_rating"
   ]
  },
  {
   "cell_type": "code",
   "execution_count": 7,
   "metadata": {},
   "outputs": [],
   "source": [
    "# vengono messi i rating dell'utente target in una lista\n",
    "active_user_rating_list = active_user_rating.values.ravel()\n",
    "\n",
    "# si calcola la similarità tra l'utente target e gli utenti della matrice non sparsa\n",
    "similarity = np.array([(complete_ratings.iloc[i, 0],\\\n",
    "             weight_factor(active_user_rating_list, complete_ratings.iloc[i, 2:]))\\\n",
    "             for i in range(complete_ratings.shape[0])])"
   ]
  },
  {
   "cell_type": "code",
   "execution_count": 8,
   "metadata": {},
   "outputs": [
    {
     "data": {
      "text/plain": [
       "array([[ 7.33800000e+03, -2.87912874e-01],\n",
       "       [ 1.66100000e+03, -2.87005484e-01],\n",
       "       [ 1.41410000e+04, -2.70326403e-01],\n",
       "       ...,\n",
       "       [ 1.92170000e+04,  3.99469178e-01],\n",
       "       [ 1.06150000e+04,  4.06355890e-01],\n",
       "       [ 7.49200000e+03,  4.59458050e-01]])"
      ]
     },
     "execution_count": 8,
     "metadata": {},
     "output_type": "execute_result"
    }
   ],
   "source": [
    "# si ordinano i neighbor più simili in ordine decrescente\n",
    "ind = np.argsort( similarity[:,1] )\n",
    "similarity = similarity[ind]\n",
    "similarity"
   ]
  },
  {
   "cell_type": "markdown",
   "metadata": {},
   "source": [
    "## Si prendono i primi 30 neighbor più simili all'utente target che rispettano una certa soglia (similarità maggiore di 0,1)"
   ]
  },
  {
   "cell_type": "code",
   "execution_count": 10,
   "metadata": {},
   "outputs": [
    {
     "name": "stdout",
     "output_type": "stream",
     "text": [
      "Si hanno 2323 potenziali neighbor! Se ne selezionano 30 tra questi\n"
     ]
    }
   ],
   "source": [
    "neighbors = similarity[similarity[:,1] > 0.1]\n",
    "print('Si hanno {} potenziali neighbor! Se ne selezionano 30 tra questi'.format(len(neighbors)))"
   ]
  },
  {
   "cell_type": "code",
   "execution_count": 13,
   "metadata": {
    "scrolled": true
   },
   "outputs": [
    {
     "data": {
      "text/plain": [
       "array([[1.94580000e+04, 1.64382565e-01],\n",
       "       [1.88900000e+04, 1.52063382e-01],\n",
       "       [1.42700000e+03, 1.25800525e-01],\n",
       "       [7.71100000e+03, 1.94052226e-01],\n",
       "       [6.11900000e+03, 1.09001846e-01],\n",
       "       [2.20790000e+04, 1.66095591e-01],\n",
       "       [3.81800000e+03, 2.05102031e-01],\n",
       "       [2.45520000e+04, 1.07112632e-01],\n",
       "       [5.32400000e+03, 2.05523407e-01],\n",
       "       [6.20500000e+03, 2.08801380e-01],\n",
       "       [2.33300000e+04, 1.17581778e-01],\n",
       "       [2.34780000e+04, 1.68556483e-01],\n",
       "       [6.86000000e+02, 1.33127964e-01],\n",
       "       [2.20800000e+03, 1.39041383e-01],\n",
       "       [3.63000000e+03, 2.65067408e-01],\n",
       "       [2.38740000e+04, 1.92101443e-01],\n",
       "       [2.01550000e+04, 1.26367481e-01],\n",
       "       [2.48000000e+03, 1.16942649e-01],\n",
       "       [1.70170000e+04, 1.83085390e-01],\n",
       "       [2.24910000e+04, 1.01970684e-01],\n",
       "       [1.94360000e+04, 1.08773329e-01],\n",
       "       [7.76700000e+03, 1.27624227e-01],\n",
       "       [2.11420000e+04, 1.57645338e-01],\n",
       "       [1.20470000e+04, 2.35953051e-01],\n",
       "       [2.19510000e+04, 1.75372012e-01],\n",
       "       [2.28980000e+04, 1.52106361e-01],\n",
       "       [5.81800000e+03, 1.44467823e-01],\n",
       "       [8.10400000e+03, 2.45138958e-01],\n",
       "       [9.24100000e+03, 1.48850375e-01],\n",
       "       [6.95200000e+03, 1.08303144e-01]])"
      ]
     },
     "execution_count": 13,
     "metadata": {},
     "output_type": "execute_result"
    }
   ],
   "source": [
    "# con replace = False si è sicuri che non un neighbor non viene selezionato più volte\n",
    "index_30_neighbor = np.random.choice(range(len(neighbors)), 30, replace=False)\n",
    "selected_neighbors = neighbors[index_30_neighbor]\n",
    "selected_neighbors"
   ]
  },
  {
   "cell_type": "markdown",
   "metadata": {},
   "source": [
    "## Assegnazione degli score per le barzellette non ancora valutate dall'utente target "
   ]
  },
  {
   "cell_type": "code",
   "execution_count": 14,
   "metadata": {},
   "outputs": [],
   "source": [
    "recommendation_columns = [column for column in active_user_rating.columns if active_user_rating[column].values[0] == 0]"
   ]
  },
  {
   "cell_type": "code",
   "execution_count": 15,
   "metadata": {},
   "outputs": [
    {
     "data": {
      "text/plain": [
       "0.6289041095890411"
      ]
     },
     "execution_count": 15,
     "metadata": {},
     "output_type": "execute_result"
    }
   ],
   "source": [
    "# si calcola la media delle valutazioni dello user target in modo \n",
    "# da avere una predizione più precisa (formula vista nel corso)\n",
    "active_user_raw_ratings = ratings_df[ratings_df['user_id'] == active_user_id].iloc[:, 2:]\n",
    "active_user_mean_rating = np.mean(active_user_raw_ratings.drop(recommendation_columns, axis = 1).values)\n",
    "active_user_mean_rating"
   ]
  },
  {
   "cell_type": "code",
   "execution_count": 17,
   "metadata": {},
   "outputs": [
    {
     "name": "stdout",
     "output_type": "stream",
     "text": [
      "user id dei neighbor:  [19458. 18890.  1427.  7711.  6119. 22079.  3818. 24552.  5324.  6205.\n",
      " 23330. 23478.   686.  2208.  3630. 23874. 20155.  2480. 17017. 22491.\n",
      " 19436.  7767. 21142. 12047. 21951. 22898.  5818.  8104.  9241.  6952.] \n",
      "\n",
      "\n",
      "similarità tra utente e neighbor:  [0.16438256 0.15206338 0.12580053 0.19405223 0.10900185 0.16609559\n",
      " 0.20510203 0.10711263 0.20552341 0.20880138 0.11758178 0.16855648\n",
      " 0.13312796 0.13904138 0.26506741 0.19210144 0.12636748 0.11694265\n",
      " 0.18308539 0.10197068 0.10877333 0.12762423 0.15764534 0.23595305\n",
      " 0.17537201 0.15210636 0.14446782 0.24513896 0.14885038 0.10830314]\n"
     ]
    }
   ],
   "source": [
    "# user id dei neighbor\n",
    "neighbour_user_id = selected_neighbors[:, 0]\n",
    "\n",
    "# similarità dei neighbor con lo user target\n",
    "neighbour_user_similarity = selected_neighbors[:, 1]\n",
    "\n",
    "print('user id dei neighbor: ', neighbour_user_id, '\\n\\n')\n",
    "print('similarità tra utente e neighbor: ', neighbour_user_similarity)"
   ]
  },
  {
   "cell_type": "code",
   "execution_count": 18,
   "metadata": {},
   "outputs": [
    {
     "data": {
      "text/plain": [
       "30"
      ]
     },
     "execution_count": 18,
     "metadata": {},
     "output_type": "execute_result"
    }
   ],
   "source": [
    "# si prendono i rating dei neighbor dell'utente target\n",
    "neighbours_df = complete_ratings[complete_ratings['user_id'].isin(neighbour_user_id)]\n",
    "len(neighbours_df)"
   ]
  },
  {
   "cell_type": "code",
   "execution_count": 19,
   "metadata": {},
   "outputs": [
    {
     "name": "stdout",
     "output_type": "stream",
     "text": [
      "Si suggerirà una tra le 27 barzellette \n",
      "\n",
      "\n"
     ]
    },
    {
     "data": {
      "text/html": [
       "<div>\n",
       "<style scoped>\n",
       "    .dataframe tbody tr th:only-of-type {\n",
       "        vertical-align: middle;\n",
       "    }\n",
       "\n",
       "    .dataframe tbody tr th {\n",
       "        vertical-align: top;\n",
       "    }\n",
       "\n",
       "    .dataframe thead th {\n",
       "        text-align: right;\n",
       "    }\n",
       "</style>\n",
       "<table border=\"1\" class=\"dataframe\">\n",
       "  <thead>\n",
       "    <tr style=\"text-align: right;\">\n",
       "      <th></th>\n",
       "      <th>joke_71</th>\n",
       "      <th>joke_72</th>\n",
       "      <th>joke_73</th>\n",
       "      <th>joke_74</th>\n",
       "      <th>joke_75</th>\n",
       "      <th>joke_76</th>\n",
       "      <th>joke_77</th>\n",
       "      <th>joke_78</th>\n",
       "      <th>joke_80</th>\n",
       "      <th>joke_82</th>\n",
       "      <th>...</th>\n",
       "      <th>joke_90</th>\n",
       "      <th>joke_91</th>\n",
       "      <th>joke_93</th>\n",
       "      <th>joke_94</th>\n",
       "      <th>joke_95</th>\n",
       "      <th>joke_96</th>\n",
       "      <th>joke_97</th>\n",
       "      <th>joke_98</th>\n",
       "      <th>joke_99</th>\n",
       "      <th>100</th>\n",
       "    </tr>\n",
       "  </thead>\n",
       "  <tbody>\n",
       "    <tr>\n",
       "      <th>685</th>\n",
       "      <td>5.3295</td>\n",
       "      <td>-4.3305</td>\n",
       "      <td>-3.5505</td>\n",
       "      <td>-4.1905</td>\n",
       "      <td>-3.6505</td>\n",
       "      <td>3.0495</td>\n",
       "      <td>-4.7705</td>\n",
       "      <td>-3.6505</td>\n",
       "      <td>-6.0305</td>\n",
       "      <td>-4.8705</td>\n",
       "      <td>...</td>\n",
       "      <td>11.2495</td>\n",
       "      <td>11.6895</td>\n",
       "      <td>-6.5605</td>\n",
       "      <td>-4.6205</td>\n",
       "      <td>-2.7805</td>\n",
       "      <td>-3.3605</td>\n",
       "      <td>-4.3805</td>\n",
       "      <td>0.2295</td>\n",
       "      <td>-1.9005</td>\n",
       "      <td>-2.5405</td>\n",
       "    </tr>\n",
       "    <tr>\n",
       "      <th>1426</th>\n",
       "      <td>10.6031</td>\n",
       "      <td>4.2431</td>\n",
       "      <td>1.7231</td>\n",
       "      <td>3.8531</td>\n",
       "      <td>-3.2269</td>\n",
       "      <td>3.0331</td>\n",
       "      <td>-5.2169</td>\n",
       "      <td>10.2631</td>\n",
       "      <td>7.7931</td>\n",
       "      <td>4.3931</td>\n",
       "      <td>...</td>\n",
       "      <td>3.7131</td>\n",
       "      <td>5.5531</td>\n",
       "      <td>3.5631</td>\n",
       "      <td>-1.5769</td>\n",
       "      <td>1.2831</td>\n",
       "      <td>4.0031</td>\n",
       "      <td>2.3531</td>\n",
       "      <td>2.7431</td>\n",
       "      <td>0.3131</td>\n",
       "      <td>5.8031</td>\n",
       "    </tr>\n",
       "    <tr>\n",
       "      <th>2207</th>\n",
       "      <td>1.9397</td>\n",
       "      <td>4.5597</td>\n",
       "      <td>-2.8203</td>\n",
       "      <td>-1.2603</td>\n",
       "      <td>4.7597</td>\n",
       "      <td>4.3697</td>\n",
       "      <td>-7.2303</td>\n",
       "      <td>-0.0503</td>\n",
       "      <td>-0.8303</td>\n",
       "      <td>5.0497</td>\n",
       "      <td>...</td>\n",
       "      <td>-1.7503</td>\n",
       "      <td>4.7097</td>\n",
       "      <td>0.1497</td>\n",
       "      <td>4.3697</td>\n",
       "      <td>4.5097</td>\n",
       "      <td>3.4497</td>\n",
       "      <td>5.4897</td>\n",
       "      <td>1.3597</td>\n",
       "      <td>0.6297</td>\n",
       "      <td>5.8697</td>\n",
       "    </tr>\n",
       "    <tr>\n",
       "      <th>2479</th>\n",
       "      <td>2.6556</td>\n",
       "      <td>2.6556</td>\n",
       "      <td>-8.3644</td>\n",
       "      <td>0.3256</td>\n",
       "      <td>-7.7744</td>\n",
       "      <td>3.3356</td>\n",
       "      <td>3.3356</td>\n",
       "      <td>3.3356</td>\n",
       "      <td>-1.9044</td>\n",
       "      <td>5.5256</td>\n",
       "      <td>...</td>\n",
       "      <td>6.8856</td>\n",
       "      <td>3.0456</td>\n",
       "      <td>6.5456</td>\n",
       "      <td>-8.8444</td>\n",
       "      <td>2.5656</td>\n",
       "      <td>-8.4144</td>\n",
       "      <td>-8.4144</td>\n",
       "      <td>7.1256</td>\n",
       "      <td>6.6856</td>\n",
       "      <td>-9.1344</td>\n",
       "    </tr>\n",
       "    <tr>\n",
       "      <th>3629</th>\n",
       "      <td>-4.5946</td>\n",
       "      <td>4.9654</td>\n",
       "      <td>-3.2846</td>\n",
       "      <td>3.5154</td>\n",
       "      <td>3.6554</td>\n",
       "      <td>3.3654</td>\n",
       "      <td>4.4354</td>\n",
       "      <td>4.3354</td>\n",
       "      <td>0.7954</td>\n",
       "      <td>1.8654</td>\n",
       "      <td>...</td>\n",
       "      <td>2.2954</td>\n",
       "      <td>4.8254</td>\n",
       "      <td>1.9054</td>\n",
       "      <td>3.8554</td>\n",
       "      <td>-7.0246</td>\n",
       "      <td>2.7354</td>\n",
       "      <td>1.3754</td>\n",
       "      <td>-0.6646</td>\n",
       "      <td>-0.1746</td>\n",
       "      <td>1.1354</td>\n",
       "    </tr>\n",
       "  </tbody>\n",
       "</table>\n",
       "<p>5 rows × 27 columns</p>\n",
       "</div>"
      ],
      "text/plain": [
       "      joke_71  joke_72  joke_73  joke_74  joke_75  joke_76  joke_77  joke_78  \\\n",
       "685    5.3295  -4.3305  -3.5505  -4.1905  -3.6505   3.0495  -4.7705  -3.6505   \n",
       "1426  10.6031   4.2431   1.7231   3.8531  -3.2269   3.0331  -5.2169  10.2631   \n",
       "2207   1.9397   4.5597  -2.8203  -1.2603   4.7597   4.3697  -7.2303  -0.0503   \n",
       "2479   2.6556   2.6556  -8.3644   0.3256  -7.7744   3.3356   3.3356   3.3356   \n",
       "3629  -4.5946   4.9654  -3.2846   3.5154   3.6554   3.3654   4.4354   4.3354   \n",
       "\n",
       "      joke_80  joke_82  ...  joke_90  joke_91  joke_93  joke_94  joke_95  \\\n",
       "685   -6.0305  -4.8705  ...  11.2495  11.6895  -6.5605  -4.6205  -2.7805   \n",
       "1426   7.7931   4.3931  ...   3.7131   5.5531   3.5631  -1.5769   1.2831   \n",
       "2207  -0.8303   5.0497  ...  -1.7503   4.7097   0.1497   4.3697   4.5097   \n",
       "2479  -1.9044   5.5256  ...   6.8856   3.0456   6.5456  -8.8444   2.5656   \n",
       "3629   0.7954   1.8654  ...   2.2954   4.8254   1.9054   3.8554  -7.0246   \n",
       "\n",
       "      joke_96  joke_97  joke_98  joke_99     100  \n",
       "685   -3.3605  -4.3805   0.2295  -1.9005 -2.5405  \n",
       "1426   4.0031   2.3531   2.7431   0.3131  5.8031  \n",
       "2207   3.4497   5.4897   1.3597   0.6297  5.8697  \n",
       "2479  -8.4144  -8.4144   7.1256   6.6856 -9.1344  \n",
       "3629   2.7354   1.3754  -0.6646  -0.1746  1.1354  \n",
       "\n",
       "[5 rows x 27 columns]"
      ]
     },
     "execution_count": 19,
     "metadata": {},
     "output_type": "execute_result"
    }
   ],
   "source": [
    "# si selezionano solo le barzellette che si volgiono raccomandare all'utente (quelle che non ha valutato)\n",
    "print('Si suggerirà una tra le {} barzellette \\n\\n'.format(len(recommendation_columns)))\n",
    "\n",
    "neighbours_df = neighbours_df[recommendation_columns]\n",
    "neighbours_df.head()"
   ]
  },
  {
   "cell_type": "code",
   "execution_count": 20,
   "metadata": {},
   "outputs": [
    {
     "name": "stdout",
     "output_type": "stream",
     "text": [
      "predizione della valutazione della prima barzelletta joke_71\n"
     ]
    },
    {
     "data": {
      "text/plain": [
       "-1.1901602640229152"
      ]
     },
     "execution_count": 20,
     "metadata": {},
     "output_type": "execute_result"
    }
   ],
   "source": [
    "item_id = recommendation_columns[0]\n",
    "print('predizione della valutazione della prima barzelletta', item_id)\n",
    "\n",
    "def score_user_item(item_id, neighbours_df,neighbour_user_similarity, active_user_mean_rating ):\n",
    "    item_rating = neighbours_df[item_id]\n",
    "    t1, t2 = 0, 0\n",
    "    for similarity, norm_rating in zip(neighbour_user_similarity, item_rating):\n",
    "        t1+= norm_rating * similarity\n",
    "        t2+= similarity\n",
    "    score = (t1 + active_user_mean_rating)/t2\n",
    "    return score\n",
    "\n",
    "# predizione relativa alla prima barzelletta\n",
    "score_user_item(item_id, neighbours_df,neighbour_user_similarity, active_user_mean_rating )\n",
    "        "
   ]
  },
  {
   "cell_type": "code",
   "execution_count": 21,
   "metadata": {},
   "outputs": [
    {
     "name": "stdout",
     "output_type": "stream",
     "text": [
      "il valore più alto è 3.0727721508315042\n",
      "la barzelletta da raccomandare è:  joke_89\n"
     ]
    }
   ],
   "source": [
    "# raccomandazione della barzelletta con la predizione più alta\n",
    "top_score = -np.inf\n",
    "joke_to_suggest = ''\n",
    "\n",
    "for column in neighbours_df.columns:\n",
    "    score =score_user_item(column, neighbours_df,neighbour_user_similarity, active_user_mean_rating)\n",
    "    if score > top_score:\n",
    "        top_score = score\n",
    "        joke_to_suggest = column\n",
    "print('il valore più alto è', top_score)\n",
    "print('la barzelletta da raccomandare è: ', joke_to_suggest)    "
   ]
  }
 ],
 "metadata": {
  "kernelspec": {
   "display_name": "Python 3",
   "language": "python",
   "name": "python3"
  },
  "language_info": {
   "codemirror_mode": {
    "name": "ipython",
    "version": 3
   },
   "file_extension": ".py",
   "mimetype": "text/x-python",
   "name": "python",
   "nbconvert_exporter": "python",
   "pygments_lexer": "ipython3",
   "version": "3.8.5"
  }
 },
 "nbformat": 4,
 "nbformat_minor": 4
}
