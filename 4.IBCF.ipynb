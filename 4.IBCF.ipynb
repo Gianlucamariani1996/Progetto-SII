{
 "cells": [
  {
   "cell_type": "markdown",
   "metadata": {},
   "source": [
    "# Utilizzo del Item-Based Collaborative Filtering"
   ]
  },
  {
   "cell_type": "code",
   "execution_count": 1,
   "metadata": {},
   "outputs": [],
   "source": [
    "# import delle librerie necessarie\n",
    "import numpy as np\n",
    "import pandas as pd"
   ]
  },
  {
   "cell_type": "code",
   "execution_count": 2,
   "metadata": {},
   "outputs": [],
   "source": [
    "def cosin_similarity(x, y): \n",
    "    t1, t2, t3 = 0, 0, 0 \n",
    "    for i, j in zip(x, y):\n",
    "        if np.isnan(i) or np.isnan(j):\n",
    "          continue\n",
    "        t1+=i*j\n",
    "        t2+=i*i\n",
    "        t3+=j*j\n",
    "    return t1/(np.sqrt(t2) * np.sqrt(t3))"
   ]
  },
  {
   "cell_type": "code",
   "execution_count": 3,
   "metadata": {},
   "outputs": [
    {
     "name": "stdout",
     "output_type": "stream",
     "text": [
      "[-5.988108108]\n",
      "[6.2337]\n",
      "-1.0\n"
     ]
    }
   ],
   "source": [
    "# lettura dei rating normalizzati dal relativo CSV\n",
    "pd.set_option('display.max_columns', 500)\n",
    "normalized_ratings_df = pd.read_csv('./data/normalized_ratings.csv')\n",
    "# lettura dei rating non normalizzati dal relativo CSV\n",
    "ratings_df = pd.read_csv('./data/jester_jokes_ratings.csv')\n",
    "# se si calcola la similarità tra soli due item corated viene il giusto risultato\n",
    "# altrimenti i 0 vengono considerati, che facciamo?\n",
    "#x = normalized_ratings_df.iloc[0, 79:80]\n",
    "#y = normalized_ratings_df.iloc[1, 79:80]\n",
    "\n",
    "# la funzione weight_factor prende in input due array quindi ci vanno le [] esterne ad iloc\n",
    "x = [normalized_ratings_df.iloc[0, 79]]\n",
    "y = [normalized_ratings_df.iloc[1, 79]]\n",
    "sim = cosin_similarity(x,y)\n",
    "print(x)\n",
    "print(y)\n",
    "print(sim)\n",
    "#normalized_ratings_df.head(2)"
   ]
  },
  {
   "cell_type": "markdown",
   "metadata": {},
   "source": [
    "## Separazione dei rating normalizzati"
   ]
  },
  {
   "cell_type": "markdown",
   "metadata": {},
   "source": [
    "Si separano i rating noramlizzati in due parti: \n",
    "1. una parte contenente tutti gli utenti che hanno valutato tutte e 100 le barzellette;\n",
    "2. una parte contenente tutti gli utenti che non hanno valutato tutte le barzellette.\n",
    "\n",
    "Si seleziona poi l'utente target (al quale si vuole fare una raccomandazione) dalla matrice sparsa e si cercano i vicini di quell'utente nella la matrice non sparsa."
   ]
  },
  {
   "cell_type": "code",
   "execution_count": 4,
   "metadata": {},
   "outputs": [
    {
     "name": "stdout",
     "output_type": "stream",
     "text": [
      "totale utenti che hanno valutato tutte le barzellette:  7200\n",
      "totale utenti che non hanno valutato tutte le barzellette:  17783\n"
     ]
    }
   ],
   "source": [
    "# utenti che hanno valutato tutte e 100 le barzellette\n",
    "complete_ratings = normalized_ratings_df[normalized_ratings_df['number_of_jokes_rated'] == 100]\n",
    "print('totale utenti che hanno valutato tutte le barzellette: ', len(complete_ratings))\n",
    "\n",
    "# utenti che non hanno valutato tutte le barzellette\n",
    "sparse_ratings = normalized_ratings_df[normalized_ratings_df['number_of_jokes_rated'] != 100]\n",
    "print('totale utenti che non hanno valutato tutte le barzellette: ', len(sparse_ratings))"
   ]
  },
  {
   "cell_type": "code",
   "execution_count": 5,
   "metadata": {},
   "outputs": [],
   "source": [
    "# si sceglie un utente target e si restituisce una lista degli indici dei \n",
    "# joke che l'utente non ha valutato\n",
    "def lista_of_index_no_vote(target):\n",
    "    x = normalized_ratings_df.iloc[target-1, 2:].tolist()\n",
    "    lista_indici = []\n",
    "    for i in range(len(x)):  \n",
    "        if np.isnan(x[i]):\n",
    "            lista_indici.append(i+1)\n",
    "    return lista_indici\n",
    "\n",
    "def lista_of_index_vote(target):\n",
    "    x = normalized_ratings_df.iloc[target-1, 2:].tolist()\n",
    "    lista_indici = []\n",
    "    for i in range(len(x)):  \n",
    "        if not(np.isnan(x[i])):\n",
    "            lista_indici.append(i+1)\n",
    "    return lista_indici\n",
    "\n",
    "# per ogni joke non votato si va a predire un valore\n",
    "def neighbor(target):\n",
    "    l = lista_of_index_no_vote(target)\n",
    "    k = lista_of_index_vote(target)\n",
    "    print(l, k)\n",
    "    similarity = []\n",
    "    predizioni = []\n",
    "    joke_pred_2_sim_vote = {}\n",
    "    # per ogni joke non votato \n",
    "    for elem in l: \n",
    "        #similarity = []\n",
    "        # per ogni joke votato \n",
    "        sommatoria1, sommatoria2 = 0, 0\n",
    "        for i in k:\n",
    "            id = \"joke_\" + str(i)\n",
    "            # colonna di cui dare la predizione\n",
    "            x = normalized_ratings_df.iloc[:, elem+1].tolist()\n",
    "            # si prendono tutte le righe (:) della colonna i+1\n",
    "            y = normalized_ratings_df.iloc[:, i+1].tolist()\n",
    "            sim = cosin_similarity(x, y)\n",
    "            #print((\"joke_\"+str(elem),id, float(sim)))\n",
    "            if \"joke_\"+str(elem) not in joke_pred_2_sim_vote:\n",
    "                joke_pred_2_sim_vote[\"joke_\"+str(elem)] = [(id, float(sim), normalized_ratings_df.iloc[target-1, i+1])] \n",
    "            else: \n",
    "                joke_pred_2_sim_vote[\"joke_\"+str(elem)].append((id, float(sim), normalized_ratings_df.iloc[target-1, i+1]))\n",
    "                \n",
    "            #similarity.append((\"joke_\"+str(elem), id, float(sim), normalized_ratings_df.iloc[target-1, i+1]))\n",
    "            \n",
    "        #similarity = sorted(similarity, key=lambda x: x[2], reverse=True)\n",
    "        print(\"elemento da predire \" + str(elem) + \"\\n\")\n",
    "        # si tengono solo i joke più simili\n",
    "        #print(similarity[1:4])\n",
    "        #print(\"\\n\")\n",
    "    return joke_pred_2_sim_vote\n",
    "\n",
    "#def pred(lista): \n",
    "#    sommatoria1 += sim * normalized_ratings_df.iloc[target-1, i+1]\n",
    "    #print(normalized_ratings_df.iloc[target-1, i+1])\n",
    "#    sommatoria2 += sim \n",
    "#    print((\"joke_\"+str(elem), sommatoria1/sommatoria2))"
   ]
  },
  {
   "cell_type": "code",
   "execution_count": 6,
   "metadata": {},
   "outputs": [],
   "source": [
    "def pred(target): \n",
    "    d = neighbor(target)\n",
    "    for elem in d: \n",
    "        more_similar = sorted(d[elem], key=lambda x: x[1], reverse=True)\n",
    "        d[elem] = more_similar[0:5]\n",
    "        print(elem)\n",
    "        print(d[elem])\n",
    "        sommatoria1, sommatoria2 = 0, 0\n",
    "        for t in d[elem]: \n",
    "            sommatoria1 += t[1] * t[2]\n",
    "            sommatoria2 += t[1] \n",
    "        print(\"\\n\")\n",
    "        print((\"joke_\"+str(elem), sommatoria1/sommatoria2))\n",
    "        print(\"\\n\")"
   ]
  },
  {
   "cell_type": "code",
   "execution_count": 7,
   "metadata": {},
   "outputs": [
    {
     "name": "stdout",
     "output_type": "stream",
     "text": [
      "[71, 72, 73, 74, 75, 76, 78, 79, 80] [1, 2, 3, 4, 5, 6, 7, 8, 9, 10, 11, 12, 13, 14, 15, 16, 17, 18, 19, 20, 21, 22, 23, 24, 25, 26, 27, 28, 29, 30, 31, 32, 33, 34, 35, 36, 37, 38, 39, 40, 41, 42, 43, 44, 45, 46, 47, 48, 49, 50, 51, 52, 53, 54, 55, 56, 57, 58, 59, 60, 61, 62, 63, 64, 65, 66, 67, 68, 69, 70, 77, 81, 82, 83, 84, 85, 86, 87, 88, 89, 90, 91, 92, 93, 94, 95, 96, 97, 98, 99, 100]\n",
      "elemento da predire 71\n",
      "\n",
      "elemento da predire 72\n",
      "\n",
      "elemento da predire 73\n",
      "\n",
      "elemento da predire 74\n",
      "\n",
      "elemento da predire 75\n",
      "\n",
      "elemento da predire 76\n",
      "\n",
      "elemento da predire 78\n",
      "\n",
      "elemento da predire 79\n",
      "\n",
      "elemento da predire 80\n",
      "\n",
      "joke_71\n",
      "[('joke_90', 0.25508515600516224, -0.292637363), ('joke_58', 0.2476079932972767, -12.42263736), ('joke_84', 0.2354825444408173, 4.0273626369999995), ('joke_20', 0.22035763204153272, 1.257362637), ('joke_63', 0.21301743341451426, 1.457362637)]\n",
      "\n",
      "\n",
      "('joke_joke_71', -1.3782629902654318)\n",
      "\n",
      "\n",
      "joke_72\n",
      "[('joke_89', 0.3429069991844835, -0.432637363), ('joke_93', 0.29296310844764945, 1.017362637), ('joke_83', 0.2787345399106267, -2.382637363), ('joke_50', 0.27762749074552734, -3.302637363), ('joke_27', 0.23888289136326785, -4.422637363)]\n",
      "\n",
      "\n",
      "('joke_joke_72', -1.738381095571038)\n",
      "\n",
      "\n",
      "joke_73\n",
      "[('joke_77', 0.3587403286568843, 0.8773626370000001), ('joke_85', 0.2526816147475035, 0.677362637), ('joke_100', 0.18429418188442526, -1.6526373630000002), ('joke_6', 0.14163876682851748, -1.6526373630000002), ('joke_51', 0.1401129050463756, 1.167362637)]\n",
      "\n",
      "\n",
      "('joke_joke_73', 0.10284859312180121)\n",
      "\n",
      "\n",
      "joke_74\n",
      "[('joke_58', 0.4383407981908708, -12.42263736), ('joke_16', 0.29592525419976184, -12.91263736), ('joke_4', 0.2891802236830769, -8.642637363), ('joke_24', 0.2660744755254326, -4.5126373630000005), ('joke_57', 0.24683064647433564, -11.31263736)]\n",
      "\n",
      "\n",
      "('joke_joke_74', -10.257293550984269)\n",
      "\n",
      "\n",
      "joke_75\n",
      "[('joke_4', 0.2658807138908198, -8.642637363), ('joke_77', 0.23193897137364433, 0.8773626370000001), ('joke_17', 0.223333889190714, -0.532637363), ('joke_58', 0.1915668415825949, -12.42263736), ('joke_16', 0.1413673839253826, -12.91263736)]\n",
      "\n",
      "\n",
      "('joke_joke_75', -6.089211112014954)\n",
      "\n",
      "\n",
      "joke_76\n",
      "[('joke_89', 0.32013507949880254, -0.432637363), ('joke_93', 0.23674780621356914, 1.017362637), ('joke_83', 0.21891137308266675, -2.382637363), ('joke_87', 0.1991830602380109, 3.0573626369999998), ('joke_53', 0.1867753044546643, 5.677362637000001)]\n",
      "\n",
      "\n",
      "('joke_joke_76', 1.0760772260707505)\n",
      "\n",
      "\n",
      "joke_78\n",
      "[('joke_77', 0.41322546471370175, 0.8773626370000001), ('joke_89', 0.18587339091333568, -0.432637363), ('joke_83', 0.17350735783421478, -2.382637363), ('joke_85', 0.17031734556200198, 0.677362637), ('joke_82', 0.1396007103621917, 2.667362637)]\n",
      "\n",
      "\n",
      "('joke_joke_78', 0.3292859398032618)\n",
      "\n",
      "\n",
      "joke_79\n",
      "[('joke_77', 0.4063451949217603, 0.8773626370000001), ('joke_51', 0.15169118254963668, 1.167362637), ('joke_85', 0.1477958416565047, 0.677362637), ('joke_30', 0.14633276270129184, 1.3573626369999998), ('joke_82', 0.1403145963035692, 2.667362637)]\n",
      "\n",
      "\n",
      "('joke_joke_79', 1.2157415170167922)\n",
      "\n",
      "\n",
      "joke_80\n",
      "[('joke_85', 0.23478671438026139, 0.677362637), ('joke_77', 0.22570251404835276, 0.8773626370000001), ('joke_100', 0.1919082329443327, -1.6526373630000002), ('joke_83', 0.16647082813755076, -2.382637363), ('joke_81', 0.15781774100220675, 1.987362637)]\n",
      "\n",
      "\n",
      "('joke_joke_80', -0.04412323596649493)\n",
      "\n",
      "\n"
     ]
    }
   ],
   "source": [
    "# esempio dove lo user target è id=5\n",
    "pred(5)"
   ]
  },
  {
   "cell_type": "code",
   "execution_count": null,
   "metadata": {},
   "outputs": [],
   "source": []
  }
 ],
 "metadata": {
  "kernelspec": {
   "display_name": "Python 3",
   "language": "python",
   "name": "python3"
  },
  "language_info": {
   "codemirror_mode": {
    "name": "ipython",
    "version": 3
   },
   "file_extension": ".py",
   "mimetype": "text/x-python",
   "name": "python",
   "nbconvert_exporter": "python",
   "pygments_lexer": "ipython3",
   "version": "3.7.9"
  }
 },
 "nbformat": 4,
 "nbformat_minor": 4
}
