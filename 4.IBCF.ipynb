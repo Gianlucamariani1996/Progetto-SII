{
 "cells": [
  {
   "cell_type": "markdown",
   "metadata": {},
   "source": [
    "# Utilizzo del Item-Based Collaborative Filtering"
   ]
  },
  {
   "cell_type": "code",
   "execution_count": 1,
   "metadata": {},
   "outputs": [],
   "source": [
    "# import delle librerie necessarie\n",
    "import numpy as np\n",
    "import pandas as pd"
   ]
  },
  {
   "cell_type": "code",
   "execution_count": 2,
   "metadata": {},
   "outputs": [],
   "source": [
    "def cosin_similarity(x, y): \n",
    "    t1, t2, t3 = 0, 0, 0 \n",
    "    for i, j in zip(x, y):\n",
    "        if np.isnan(i) or np.isnan(j):\n",
    "          continue\n",
    "        t1+=i*j\n",
    "        t2+=i*i\n",
    "        t3+=j*j\n",
    "    return t1/(np.sqrt(t2) * np.sqrt(t3))"
   ]
  },
  {
   "cell_type": "code",
   "execution_count": 4,
   "metadata": {},
   "outputs": [
    {
     "name": "stdout",
     "output_type": "stream",
     "text": [
      "[-5.988108108]\n",
      "[6.2337]\n",
      "-1.0\n"
     ]
    }
   ],
   "source": [
    "# lettura dei rating normalizzati dal relativo CSV\n",
    "pd.set_option('display.max_columns', 500)\n",
    "normalized_ratings_df = pd.read_csv('./data/normalized_ratings.csv')\n",
    "# lettura dei rating non normalizzati dal relativo CSV\n",
    "ratings_df = pd.read_csv('./data/jester_jokes_ratings.csv')\n",
    "# se si calcola la similarità tra soli due item corated viene il giusto risultato\n",
    "# altrimenti i 0 vengono considerati, che facciamo?\n",
    "#x = normalized_ratings_df.iloc[0, 79:80]\n",
    "#y = normalized_ratings_df.iloc[1, 79:80]\n",
    "\n",
    "# la funzione weight_factor prende in input due array quindi ci vanno le [] esterne ad iloc\n",
    "x = [normalized_ratings_df.iloc[0, 79]]\n",
    "y = [normalized_ratings_df.iloc[1, 79]]\n",
    "sim = cosin_similarity(x,y)\n",
    "print(x)\n",
    "print(y)\n",
    "print(sim)\n",
    "#normalized_ratings_df.head(2)"
   ]
  },
  {
   "cell_type": "markdown",
   "metadata": {},
   "source": [
    "## Separazione dei rating normalizzati"
   ]
  },
  {
   "cell_type": "markdown",
   "metadata": {},
   "source": [
    "Si separano i rating noramlizzati in due parti: \n",
    "1. una parte contenente tutti gli utenti che hanno valutato tutte e 100 le barzellette;\n",
    "2. una parte contenente tutti gli utenti che non hanno valutato tutte le barzellette.\n",
    "\n",
    "Si seleziona poi l'utente target (al quale si vuole fare una raccomandazione) dalla matrice sparsa e si cercano i vicini di quell'utente nella la matrice non sparsa."
   ]
  },
  {
   "cell_type": "code",
   "execution_count": 5,
   "metadata": {},
   "outputs": [
    {
     "name": "stdout",
     "output_type": "stream",
     "text": [
      "totale utenti che hanno valutato tutte le barzellette:  7200\n",
      "totale utenti che non hanno valutato tutte le barzellette:  17783\n"
     ]
    }
   ],
   "source": [
    "# utenti che hanno valutato tutte e 100 le barzellette\n",
    "complete_ratings = normalized_ratings_df[normalized_ratings_df['number_of_jokes_rated'] == 100]\n",
    "print('totale utenti che hanno valutato tutte le barzellette: ', len(complete_ratings))\n",
    "\n",
    "# utenti che non hanno valutato tutte le barzellette\n",
    "sparse_ratings = normalized_ratings_df[normalized_ratings_df['number_of_jokes_rated'] != 100]\n",
    "print('totale utenti che non hanno valutato tutte le barzellette: ', len(sparse_ratings))"
   ]
  },
  {
   "cell_type": "code",
   "execution_count": 6,
   "metadata": {
    "scrolled": true
   },
   "outputs": [
    {
     "name": "stdout",
     "output_type": "stream",
     "text": [
      "id dell'utente target: 1352\n"
     ]
    }
   ],
   "source": [
    "# selezione dell'utente target in maniera random\n",
    "n = 1000\n",
    "active_user_id = sparse_ratings.iloc[n, 0]\n",
    "print(\"id dell'utente target: {}\".format(str(active_user_id)))"
   ]
  },
  {
   "cell_type": "code",
   "execution_count": 7,
   "metadata": {
    "scrolled": true
   },
   "outputs": [
    {
     "name": "stdout",
     "output_type": "stream",
     "text": [
      "valutazioni date da utente con id 1352 per le 100 barzellette\n"
     ]
    },
    {
     "data": {
      "text/html": [
       "<div>\n",
       "<style scoped>\n",
       "    .dataframe tbody tr th:only-of-type {\n",
       "        vertical-align: middle;\n",
       "    }\n",
       "\n",
       "    .dataframe tbody tr th {\n",
       "        vertical-align: top;\n",
       "    }\n",
       "\n",
       "    .dataframe thead th {\n",
       "        text-align: right;\n",
       "    }\n",
       "</style>\n",
       "<table border=\"1\" class=\"dataframe\">\n",
       "  <thead>\n",
       "    <tr style=\"text-align: right;\">\n",
       "      <th></th>\n",
       "      <th>user_id</th>\n",
       "      <th>number_of_jokes_rated</th>\n",
       "      <th>joke_1</th>\n",
       "      <th>joke_2</th>\n",
       "      <th>joke_3</th>\n",
       "      <th>joke_4</th>\n",
       "      <th>joke_5</th>\n",
       "      <th>joke_6</th>\n",
       "      <th>joke_7</th>\n",
       "      <th>joke_8</th>\n",
       "      <th>joke_9</th>\n",
       "      <th>joke_10</th>\n",
       "      <th>joke_11</th>\n",
       "      <th>joke_12</th>\n",
       "      <th>joke_13</th>\n",
       "      <th>joke_14</th>\n",
       "      <th>joke_15</th>\n",
       "      <th>joke_16</th>\n",
       "      <th>joke_17</th>\n",
       "      <th>joke_18</th>\n",
       "      <th>joke_19</th>\n",
       "      <th>joke_20</th>\n",
       "      <th>joke_21</th>\n",
       "      <th>joke_22</th>\n",
       "      <th>joke_23</th>\n",
       "      <th>joke_24</th>\n",
       "      <th>joke_25</th>\n",
       "      <th>joke_26</th>\n",
       "      <th>joke_27</th>\n",
       "      <th>joke_28</th>\n",
       "      <th>joke_29</th>\n",
       "      <th>joke_30</th>\n",
       "      <th>joke_31</th>\n",
       "      <th>joke_32</th>\n",
       "      <th>joke_33</th>\n",
       "      <th>joke_34</th>\n",
       "      <th>joke_35</th>\n",
       "      <th>joke_36</th>\n",
       "      <th>joke_37</th>\n",
       "      <th>joke_38</th>\n",
       "      <th>joke_39</th>\n",
       "      <th>joke_40</th>\n",
       "      <th>joke_41</th>\n",
       "      <th>joke_42</th>\n",
       "      <th>joke_43</th>\n",
       "      <th>joke_44</th>\n",
       "      <th>joke_45</th>\n",
       "      <th>joke_46</th>\n",
       "      <th>joke_47</th>\n",
       "      <th>joke_48</th>\n",
       "      <th>joke_49</th>\n",
       "      <th>joke_50</th>\n",
       "      <th>joke_51</th>\n",
       "      <th>joke_52</th>\n",
       "      <th>joke_53</th>\n",
       "      <th>joke_54</th>\n",
       "      <th>joke_55</th>\n",
       "      <th>joke_56</th>\n",
       "      <th>joke_57</th>\n",
       "      <th>joke_58</th>\n",
       "      <th>joke_59</th>\n",
       "      <th>joke_60</th>\n",
       "      <th>joke_61</th>\n",
       "      <th>joke_62</th>\n",
       "      <th>joke_63</th>\n",
       "      <th>joke_64</th>\n",
       "      <th>joke_65</th>\n",
       "      <th>joke_66</th>\n",
       "      <th>joke_67</th>\n",
       "      <th>joke_68</th>\n",
       "      <th>joke_69</th>\n",
       "      <th>joke_70</th>\n",
       "      <th>joke_71</th>\n",
       "      <th>joke_72</th>\n",
       "      <th>joke_73</th>\n",
       "      <th>joke_74</th>\n",
       "      <th>joke_75</th>\n",
       "      <th>joke_76</th>\n",
       "      <th>joke_77</th>\n",
       "      <th>joke_78</th>\n",
       "      <th>joke_79</th>\n",
       "      <th>joke_80</th>\n",
       "      <th>joke_81</th>\n",
       "      <th>joke_82</th>\n",
       "      <th>joke_83</th>\n",
       "      <th>joke_84</th>\n",
       "      <th>joke_85</th>\n",
       "      <th>joke_86</th>\n",
       "      <th>joke_87</th>\n",
       "      <th>joke_88</th>\n",
       "      <th>joke_89</th>\n",
       "      <th>joke_90</th>\n",
       "      <th>joke_91</th>\n",
       "      <th>joke_92</th>\n",
       "      <th>joke_93</th>\n",
       "      <th>joke_94</th>\n",
       "      <th>joke_95</th>\n",
       "      <th>joke_96</th>\n",
       "      <th>joke_97</th>\n",
       "      <th>joke_98</th>\n",
       "      <th>joke_99</th>\n",
       "      <th>100</th>\n",
       "    </tr>\n",
       "  </thead>\n",
       "  <tbody>\n",
       "    <tr>\n",
       "      <th>1351</th>\n",
       "      <td>1352</td>\n",
       "      <td>73</td>\n",
       "      <td>7.871096</td>\n",
       "      <td>-1.888904</td>\n",
       "      <td>-2.568904</td>\n",
       "      <td>-1.118904</td>\n",
       "      <td>2.821096</td>\n",
       "      <td>-4.078904</td>\n",
       "      <td>-0.188904</td>\n",
       "      <td>1.891096</td>\n",
       "      <td>-2.568904</td>\n",
       "      <td>3.931096</td>\n",
       "      <td>5.241096</td>\n",
       "      <td>-1.158904</td>\n",
       "      <td>2.621096</td>\n",
       "      <td>-2.568904</td>\n",
       "      <td>-5.728904</td>\n",
       "      <td>1.071096</td>\n",
       "      <td>1.891096</td>\n",
       "      <td>-5.478904</td>\n",
       "      <td>-0.188904</td>\n",
       "      <td>0.151096</td>\n",
       "      <td>-3.738904</td>\n",
       "      <td>2.621096</td>\n",
       "      <td>-1.458904</td>\n",
       "      <td>4.081096</td>\n",
       "      <td>-3.688904</td>\n",
       "      <td>-4.318904</td>\n",
       "      <td>-5.528904</td>\n",
       "      <td>-3.248904</td>\n",
       "      <td>6.701096</td>\n",
       "      <td>-0.968904</td>\n",
       "      <td>-3.788904</td>\n",
       "      <td>1.991096</td>\n",
       "      <td>-3.248904</td>\n",
       "      <td>-2.858904</td>\n",
       "      <td>4.271096</td>\n",
       "      <td>2.531096</td>\n",
       "      <td>-4.508904</td>\n",
       "      <td>1.701096</td>\n",
       "      <td>4.521096</td>\n",
       "      <td>-4.418904</td>\n",
       "      <td>-4.078904</td>\n",
       "      <td>3.791096</td>\n",
       "      <td>1.361096</td>\n",
       "      <td>2.911096</td>\n",
       "      <td>-2.428904</td>\n",
       "      <td>-4.998904</td>\n",
       "      <td>4.661096</td>\n",
       "      <td>-5.288904</td>\n",
       "      <td>0.971096</td>\n",
       "      <td>-5.438904</td>\n",
       "      <td>3.161096</td>\n",
       "      <td>-2.568904</td>\n",
       "      <td>4.861096</td>\n",
       "      <td>4.421096</td>\n",
       "      <td>3.161096</td>\n",
       "      <td>-0.138904</td>\n",
       "      <td>0.871096</td>\n",
       "      <td>-2.228904</td>\n",
       "      <td>-4.658904</td>\n",
       "      <td>-2.428904</td>\n",
       "      <td>-4.168904</td>\n",
       "      <td>6.551096</td>\n",
       "      <td>-2.908904</td>\n",
       "      <td>-3.448904</td>\n",
       "      <td>8.451096</td>\n",
       "      <td>1.751096</td>\n",
       "      <td>3.931096</td>\n",
       "      <td>4.711096</td>\n",
       "      <td>2.281096</td>\n",
       "      <td>3.641096</td>\n",
       "      <td>NaN</td>\n",
       "      <td>NaN</td>\n",
       "      <td>NaN</td>\n",
       "      <td>NaN</td>\n",
       "      <td>NaN</td>\n",
       "      <td>NaN</td>\n",
       "      <td>NaN</td>\n",
       "      <td>NaN</td>\n",
       "      <td>-4.848904</td>\n",
       "      <td>NaN</td>\n",
       "      <td>5.001096</td>\n",
       "      <td>NaN</td>\n",
       "      <td>NaN</td>\n",
       "      <td>NaN</td>\n",
       "      <td>NaN</td>\n",
       "      <td>NaN</td>\n",
       "      <td>NaN</td>\n",
       "      <td>NaN</td>\n",
       "      <td>NaN</td>\n",
       "      <td>NaN</td>\n",
       "      <td>NaN</td>\n",
       "      <td>-3.448904</td>\n",
       "      <td>NaN</td>\n",
       "      <td>NaN</td>\n",
       "      <td>NaN</td>\n",
       "      <td>NaN</td>\n",
       "      <td>NaN</td>\n",
       "      <td>NaN</td>\n",
       "      <td>NaN</td>\n",
       "      <td>NaN</td>\n",
       "    </tr>\n",
       "  </tbody>\n",
       "</table>\n",
       "</div>"
      ],
      "text/plain": [
       "      user_id  number_of_jokes_rated    joke_1    joke_2    joke_3    joke_4  \\\n",
       "1351     1352                     73  7.871096 -1.888904 -2.568904 -1.118904   \n",
       "\n",
       "        joke_5    joke_6    joke_7    joke_8    joke_9   joke_10   joke_11  \\\n",
       "1351  2.821096 -4.078904 -0.188904  1.891096 -2.568904  3.931096  5.241096   \n",
       "\n",
       "       joke_12   joke_13   joke_14   joke_15   joke_16   joke_17   joke_18  \\\n",
       "1351 -1.158904  2.621096 -2.568904 -5.728904  1.071096  1.891096 -5.478904   \n",
       "\n",
       "       joke_19   joke_20   joke_21   joke_22   joke_23   joke_24   joke_25  \\\n",
       "1351 -0.188904  0.151096 -3.738904  2.621096 -1.458904  4.081096 -3.688904   \n",
       "\n",
       "       joke_26   joke_27   joke_28   joke_29   joke_30   joke_31   joke_32  \\\n",
       "1351 -4.318904 -5.528904 -3.248904  6.701096 -0.968904 -3.788904  1.991096   \n",
       "\n",
       "       joke_33   joke_34   joke_35   joke_36   joke_37   joke_38   joke_39  \\\n",
       "1351 -3.248904 -2.858904  4.271096  2.531096 -4.508904  1.701096  4.521096   \n",
       "\n",
       "       joke_40   joke_41   joke_42   joke_43   joke_44   joke_45   joke_46  \\\n",
       "1351 -4.418904 -4.078904  3.791096  1.361096  2.911096 -2.428904 -4.998904   \n",
       "\n",
       "       joke_47   joke_48   joke_49   joke_50   joke_51   joke_52   joke_53  \\\n",
       "1351  4.661096 -5.288904  0.971096 -5.438904  3.161096 -2.568904  4.861096   \n",
       "\n",
       "       joke_54   joke_55   joke_56   joke_57   joke_58   joke_59   joke_60  \\\n",
       "1351  4.421096  3.161096 -0.138904  0.871096 -2.228904 -4.658904 -2.428904   \n",
       "\n",
       "       joke_61   joke_62   joke_63   joke_64   joke_65   joke_66   joke_67  \\\n",
       "1351 -4.168904  6.551096 -2.908904 -3.448904  8.451096  1.751096  3.931096   \n",
       "\n",
       "       joke_68   joke_69   joke_70  joke_71  joke_72  joke_73  joke_74  \\\n",
       "1351  4.711096  2.281096  3.641096      NaN      NaN      NaN      NaN   \n",
       "\n",
       "      joke_75  joke_76  joke_77  joke_78   joke_79  joke_80   joke_81  \\\n",
       "1351      NaN      NaN      NaN      NaN -4.848904      NaN  5.001096   \n",
       "\n",
       "      joke_82  joke_83  joke_84  joke_85  joke_86  joke_87  joke_88  joke_89  \\\n",
       "1351      NaN      NaN      NaN      NaN      NaN      NaN      NaN      NaN   \n",
       "\n",
       "      joke_90  joke_91   joke_92  joke_93  joke_94  joke_95  joke_96  joke_97  \\\n",
       "1351      NaN      NaN -3.448904      NaN      NaN      NaN      NaN      NaN   \n",
       "\n",
       "      joke_98  joke_99  100  \n",
       "1351      NaN      NaN  NaN  "
      ]
     },
     "execution_count": 7,
     "metadata": {},
     "output_type": "execute_result"
    }
   ],
   "source": [
    "print('valutazioni date da utente con id {} per le 100 barzellette'.format(str(active_user_id)))\n",
    "active_user = sparse_ratings[sparse_ratings['user_id'] == active_user_id]\n",
    "active_user_rating = active_user.iloc[:, 0:]\n",
    "active_user_rating"
   ]
  },
  {
   "cell_type": "code",
   "execution_count": 10,
   "metadata": {},
   "outputs": [
    {
     "name": "stdout",
     "output_type": "stream",
     "text": [
      "('joke_93', 'joke_1', -0.024832887060753255)\n"
     ]
    }
   ],
   "source": [
    "active_user_rating_list = active_user_rating.values.ravel()\n",
    "l = []\n",
    "# per ogni item che l'utente ha votato si va a vedere \n",
    "# la simulitudine con la colonna dell'item da predire\n",
    "# ad esempio l'utente target non ha votato il joke_93 e quindi andiamo a \n",
    "# calcolare le similitudini tra il joke_93 e tutti gli altri joke\n",
    "for i in range(normalized_ratings_df.shape[1]-3):\n",
    "    id = \"joke_\" + str(i+1)\n",
    "    x = normalized_ratings_df.iloc[:, 93+1].tolist()\n",
    "    # si prendono tutte le righe (:) della colonna i+2\n",
    "    y = normalized_ratings_df.iloc[:, i+2].tolist()\n",
    "    sim = cosin_similarity(x, y)\n",
    "    l.append((\"joke_93\",id, sim))\n",
    "#l[i]è una tripla. l[i][0] è l'id del joke da predire,\n",
    "#l[i[1]] è l'id del joke confrontato\n",
    "#l[i][2] è la similitudine\n",
    "print(l[0])"
   ]
  },
  {
   "cell_type": "code",
   "execution_count": null,
   "metadata": {},
   "outputs": [],
   "source": [
    "# si ordinano i neighbor più simili in ordine decrescente\n",
    "ind = np.argsort( similarity[:,1] )\n",
    "similarity = similarity[ind]\n",
    "similarity.shape"
   ]
  },
  {
   "cell_type": "markdown",
   "metadata": {},
   "source": [
    "## Si prendono i primi 30 neighbor più simili all'utente target che rispettano una certa soglia (similarità maggiore di 0,1)"
   ]
  },
  {
   "cell_type": "code",
   "execution_count": null,
   "metadata": {},
   "outputs": [],
   "source": [
    "neighbors = similarity[similarity[:,1] > 0.1]\n",
    "print('Si hanno {} potenziali neighbor! Se ne selezionano 30 tra questi'.format(len(neighbors)))"
   ]
  },
  {
   "cell_type": "code",
   "execution_count": null,
   "metadata": {
    "scrolled": true
   },
   "outputs": [],
   "source": [
    "# con replace = False si è sicuri che non un neighbor non viene selezionato più volte\n",
    "index_30_neighbor = np.random.choice(range(len(neighbors)), 30, replace=False)\n",
    "selected_neighbors = neighbors[index_30_neighbor]\n",
    "selected_neighbors"
   ]
  },
  {
   "cell_type": "markdown",
   "metadata": {},
   "source": [
    "## Assegnazione degli score per le barzellette non ancora valutate dall'utente target "
   ]
  },
  {
   "cell_type": "code",
   "execution_count": null,
   "metadata": {},
   "outputs": [],
   "source": [
    "recommendation_columns = [column for column in active_user_rating.columns if active_user_rating[column].values[0] == 0]"
   ]
  },
  {
   "cell_type": "code",
   "execution_count": null,
   "metadata": {},
   "outputs": [],
   "source": [
    "# si calcola la media delle valutazioni dello user target in modo \n",
    "# da avere una predizione più precisa (formula vista nel corso)\n",
    "active_user_raw_ratings = ratings_df[ratings_df['user_id'] == active_user_id].iloc[:, 2:]\n",
    "active_user_mean_rating = np.mean(active_user_raw_ratings.drop(recommendation_columns, axis = 1).values)\n",
    "active_user_mean_rating"
   ]
  },
  {
   "cell_type": "code",
   "execution_count": null,
   "metadata": {},
   "outputs": [],
   "source": [
    "# user id dei neighbor\n",
    "neighbour_user_id = selected_neighbors[:, 0]\n",
    "\n",
    "# similarità dei neighbor con lo user target\n",
    "neighbour_user_similarity = selected_neighbors[:, 1]\n",
    "\n",
    "print('user id dei neighbor: ', neighbour_user_id, '\\n\\n')\n",
    "print('similarità tra utente e neighbor: ', neighbour_user_similarity)"
   ]
  },
  {
   "cell_type": "code",
   "execution_count": null,
   "metadata": {},
   "outputs": [],
   "source": [
    "# si prendono i rating dei neighbor dell'utente target\n",
    "neighbours_df = complete_ratings[complete_ratings['user_id'].isin(neighbour_user_id)]\n",
    "len(neighbours_df)"
   ]
  },
  {
   "cell_type": "code",
   "execution_count": null,
   "metadata": {},
   "outputs": [],
   "source": [
    "# si selezionano solo le barzellette che si volgiono raccomandare all'utente (quelle che non ha valutato)\n",
    "print('Si suggerirà una tra le {} barzellette \\n\\n'.format(len(recommendation_columns)))\n",
    "\n",
    "neighbours_df = neighbours_df[recommendation_columns]\n",
    "neighbours_df.head()"
   ]
  },
  {
   "cell_type": "code",
   "execution_count": null,
   "metadata": {},
   "outputs": [],
   "source": [
    "item_id = recommendation_columns[0]\n",
    "print('predizione della valutazione della prima barzelletta', item_id)\n",
    "\n",
    "def score_user_item(item_id, neighbours_df,neighbour_user_similarity, active_user_mean_rating ):\n",
    "    item_rating = neighbours_df[item_id]\n",
    "    t1, t2 = 0, 0\n",
    "    for similarity, norm_rating in zip(neighbour_user_similarity, item_rating):\n",
    "        t1+= norm_rating * similarity\n",
    "        t2+= similarity\n",
    "    score = (t1 + active_user_mean_rating)/t2\n",
    "    return score\n",
    "\n",
    "# predizione relativa alla prima barzelletta\n",
    "score_user_item(item_id, neighbours_df,neighbour_user_similarity, active_user_mean_rating )\n",
    "        "
   ]
  },
  {
   "cell_type": "code",
   "execution_count": null,
   "metadata": {},
   "outputs": [],
   "source": [
    "# raccomandazione della barzelletta con la predizione più alta\n",
    "top_score = -np.inf\n",
    "joke_to_suggest = ''\n",
    "\n",
    "for column in neighbours_df.columns:\n",
    "    score =score_user_item(column, neighbours_df,neighbour_user_similarity, active_user_mean_rating)\n",
    "    if score > top_score:\n",
    "        top_score = score\n",
    "        joke_to_suggest = column\n",
    "print('il valore più alto è', top_score)\n",
    "print('la barzelletta da raccomandare è: ', joke_to_suggest)    "
   ]
  }
 ],
 "metadata": {
  "kernelspec": {
   "display_name": "Python 3",
   "language": "python",
   "name": "python3"
  },
  "language_info": {
   "codemirror_mode": {
    "name": "ipython",
    "version": 3
   },
   "file_extension": ".py",
   "mimetype": "text/x-python",
   "name": "python",
   "nbconvert_exporter": "python",
   "pygments_lexer": "ipython3",
   "version": "3.7.9"
  }
 },
 "nbformat": 4,
 "nbformat_minor": 4
}
